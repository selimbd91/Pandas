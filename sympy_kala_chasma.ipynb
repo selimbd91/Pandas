{
 "cells": [
  {
   "cell_type": "code",
   "execution_count": 47,
   "metadata": {},
   "outputs": [
    {
     "data": {
      "text/latex": [
       "$\\displaystyle \\frac{\\sqrt{2} e^{- \\frac{\\left(\\mu - x\\right)^{2}}{2 \\sigma^{2}}}}{2 \\sqrt{\\pi} \\sigma}$"
      ],
      "text/plain": [
       "sqrt(2)*exp(-(mu - x)**2/(2*sigma**2))/(2*sqrt(pi)*sigma)"
      ]
     },
     "execution_count": 47,
     "metadata": {},
     "output_type": "execute_result"
    }
   ],
   "source": [
    "import sympy as sp\n",
    "#from sympy import *\n",
    "import numpy as np\n",
    "\n",
    "x, y, z = sp.symbols(\"x:z\", positive= True)\n",
    "alpha, omega = sp.symbols(\"alpha, omega\")\n",
    "mu, sigma = sp.symbols(\"mu, sigma\",positive= True)\n",
    "\n",
    "ex1 = sp.exp(-(x - mu)**2 / (2* sigma**2))/(sp.sqrt(2*sp.pi*sigma**2))\n",
    "ex1.simplify()"
   ]
  },
  {
   "cell_type": "code",
   "execution_count": 19,
   "metadata": {},
   "outputs": [
    {
     "data": {
      "text/latex": [
       "$\\displaystyle \\frac{1}{2}$"
      ],
      "text/plain": [
       "1/2"
      ]
     },
     "execution_count": 19,
     "metadata": {},
     "output_type": "execute_result"
    }
   ],
   "source": [
    "k = sp.S(1)/2\n",
    "k"
   ]
  },
  {
   "cell_type": "code",
   "execution_count": 23,
   "metadata": {},
   "outputs": [
    {
     "data": {
      "text/latex": [
       "$\\displaystyle 3.141592653589793238462643383279502884197169399375105820974944592307816406286208998628034825342117068$"
      ],
      "text/plain": [
       "3.141592653589793238462643383279502884197169399375105820974944592307816406286208998628034825342117068"
      ]
     },
     "execution_count": 23,
     "metadata": {},
     "output_type": "execute_result"
    }
   ],
   "source": [
    "my_pi = sp.pi\n",
    "my_pi.evalf(100)"
   ]
  },
  {
   "cell_type": "code",
   "execution_count": 36,
   "metadata": {},
   "outputs": [
    {
     "data": {
      "text/latex": [
       "$\\displaystyle \\sum_{x=1}^{10} \\frac{x \\left(x + 1\\right)}{2}$"
      ],
      "text/plain": [
       "Sum(x*(x + 1)/2, (x, 1, 10))"
      ]
     },
     "metadata": {},
     "output_type": "display_data"
    },
    {
     "data": {
      "text/latex": [
       "$\\displaystyle 220$"
      ],
      "text/plain": [
       "220"
      ]
     },
     "execution_count": 36,
     "metadata": {},
     "output_type": "execute_result"
    }
   ],
   "source": [
    "xp = sp.Sum(x*(x+1) / 2,(x, 1, 10))\n",
    "display(xp)\n",
    "xp.doit()"
   ]
  },
  {
   "cell_type": "code",
   "execution_count": 59,
   "metadata": {},
   "outputs": [
    {
     "data": {
      "text/latex": [
       "$\\displaystyle u{\\left(t,x \\right)}$"
      ],
      "text/plain": [
       "u(t, x)"
      ]
     },
     "metadata": {},
     "output_type": "display_data"
    },
    {
     "data": {
      "text/latex": [
       "$\\displaystyle \\frac{\\partial^{2}}{\\partial t^{2}} u{\\left(t,x \\right)}$"
      ],
      "text/plain": [
       "Derivative(u(t, x), (t, 2))"
      ]
     },
     "metadata": {},
     "output_type": "display_data"
    },
    {
     "data": {
      "text/latex": [
       "$\\displaystyle \\frac{\\partial^{2}}{\\partial t^{2}} u{\\left(t,x \\right)} = c^{2} \\frac{\\partial^{2}}{\\partial x^{2}} u{\\left(t,x \\right)}$"
      ],
      "text/plain": [
       "Eq(Derivative(u(t, x), (t, 2)), c**2*Derivative(u(t, x), (x, 2)))"
      ]
     },
     "execution_count": 59,
     "metadata": {},
     "output_type": "execute_result"
    }
   ],
   "source": [
    "t, c = sp.symbols(\"t, c\")\n",
    "u = sp.Function(\"u\")(t, x)\n",
    "display(u)\n",
    "xp1 = sp.Derivative(u, t,2)\n",
    "display(xp1)\n",
    "xp2 = c**2*sp.Derivative(u, x, x)\n",
    "xp3 = sp.Eq(xp1, xp2)\n",
    "xp3.doit()"
   ]
  },
  {
   "cell_type": "code",
   "execution_count": null,
   "metadata": {},
   "outputs": [],
   "source": []
  },
  {
   "cell_type": "markdown",
   "metadata": {},
   "source": [
    "# matrics"
   ]
  },
  {
   "cell_type": "code",
   "execution_count": 53,
   "metadata": {},
   "outputs": [
    {
     "data": {
      "text/latex": [
       "$\\displaystyle \\left[\\begin{matrix}1 & 2 & 3\\\\4 & 5 & 6\\\\7 & 8 & 9\\end{matrix}\\right]$"
      ],
      "text/plain": [
       "Matrix([\n",
       "[1, 2, 3],\n",
       "[4, 5, 6],\n",
       "[7, 8, 9]])"
      ]
     },
     "execution_count": 53,
     "metadata": {},
     "output_type": "execute_result"
    }
   ],
   "source": [
    "A = sp.Matrix([[1, 2, 3], [4, 5, 6], [7, 8, 9]])\n",
    "A"
   ]
  },
  {
   "cell_type": "code",
   "execution_count": 56,
   "metadata": {},
   "outputs": [
    {
     "data": {
      "text/latex": [
       "$\\displaystyle \\left[\\begin{matrix}10\\\\22\\\\33\\end{matrix}\\right]$"
      ],
      "text/plain": [
       "Matrix([\n",
       "[10],\n",
       "[22],\n",
       "[33]])"
      ]
     },
     "execution_count": 56,
     "metadata": {},
     "output_type": "execute_result"
    }
   ],
   "source": [
    "B = sp.Matrix([10, 22, 33])\n",
    "B"
   ]
  },
  {
   "cell_type": "code",
   "execution_count": 57,
   "metadata": {},
   "outputs": [
    {
     "data": {
      "text/latex": [
       "$\\displaystyle \\left[\\begin{matrix}153\\\\348\\\\543\\end{matrix}\\right]$"
      ],
      "text/plain": [
       "Matrix([\n",
       "[153],\n",
       "[348],\n",
       "[543]])"
      ]
     },
     "execution_count": 57,
     "metadata": {},
     "output_type": "execute_result"
    }
   ],
   "source": [
    "kk = A*B\n",
    "kk"
   ]
  },
  {
   "cell_type": "code",
   "execution_count": 60,
   "metadata": {},
   "outputs": [
    {
     "data": {
      "text/latex": [
       "$\\displaystyle \\left[\\begin{matrix}x + 2 y\\\\3 x + 4 y\\end{matrix}\\right]$"
      ],
      "text/plain": [
       "Matrix([\n",
       "[  x + 2*y],\n",
       "[3*x + 4*y]])"
      ]
     },
     "execution_count": 60,
     "metadata": {},
     "output_type": "execute_result"
    }
   ],
   "source": [
    "ab = sp.Matrix([[1, 2], [3, 4]])*sp.Matrix([x, y])\n",
    "ab"
   ]
  },
  {
   "cell_type": "code",
   "execution_count": 61,
   "metadata": {},
   "outputs": [
    {
     "data": {
      "text/latex": [
       "$\\displaystyle \\left[\\begin{matrix}1 & 2\\\\3 & 4\\end{matrix}\\right]$"
      ],
      "text/plain": [
       "Matrix([\n",
       "[1, 2],\n",
       "[3, 4]])"
      ]
     },
     "metadata": {},
     "output_type": "display_data"
    },
    {
     "data": {
      "text/latex": [
       "$\\displaystyle \\left[\\begin{matrix}x\\\\y\\end{matrix}\\right]$"
      ],
      "text/plain": [
       "Matrix([\n",
       "[x],\n",
       "[y]])"
      ]
     },
     "metadata": {},
     "output_type": "display_data"
    }
   ],
   "source": [
    "ab = sp.Matrix([[1, 2], [3, 4]])\n",
    "cd = sp.Matrix([x, y])\n",
    "display(ab)\n",
    "display(cd)"
   ]
  },
  {
   "cell_type": "code",
   "execution_count": 63,
   "metadata": {},
   "outputs": [
    {
     "data": {
      "text/latex": [
       "$\\displaystyle \\left[\\begin{matrix}\\cos{\\left(x \\right)} & 1 & 0\\\\1 & - \\sin{\\left(y \\right)} & 0\\\\0 & 0 & 1\\end{matrix}\\right]$"
      ],
      "text/plain": [
       "Matrix([\n",
       "[cos(x),       1, 0],\n",
       "[     1, -sin(y), 0],\n",
       "[     0,       0, 1]])"
      ]
     },
     "execution_count": 63,
     "metadata": {},
     "output_type": "execute_result"
    }
   ],
   "source": [
    "abc = sp.Matrix([sp.sin(x) + y, sp.cos(y) + x, z]).jacobian([x, y, z])\n",
    "abc"
   ]
  },
  {
   "cell_type": "code",
   "execution_count": 73,
   "metadata": {},
   "outputs": [
    {
     "data": {
      "text/latex": [
       "$\\displaystyle u^{T} A^{T} + v^{T} B^{T}$"
      ],
      "text/plain": [
       "u.T*A.T + v.T*B.T"
      ]
     },
     "execution_count": 73,
     "metadata": {},
     "output_type": "execute_result"
    }
   ],
   "source": [
    "A = sp.MatrixSymbol(\"A\", 100, 100)\n",
    "B = sp.MatrixSymbol(\"B\", 100, 100)\n",
    "u = sp.MatrixSymbol(\"u\", 100, 1)\n",
    "v = sp.MatrixSymbol(\"v\", 100, 1)\n",
    "mm = A*u + B*v\n",
    "mm.T"
   ]
  }
 ],
 "metadata": {
  "kernelspec": {
   "display_name": "Python 3",
   "language": "python",
   "name": "python3"
  },
  "language_info": {
   "codemirror_mode": {
    "name": "ipython",
    "version": 3
   },
   "file_extension": ".py",
   "mimetype": "text/x-python",
   "name": "python",
   "nbconvert_exporter": "python",
   "pygments_lexer": "ipython3",
   "version": "3.7.4"
  }
 },
 "nbformat": 4,
 "nbformat_minor": 2
}
