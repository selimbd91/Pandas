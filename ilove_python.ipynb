{
 "cells": [
  {
   "cell_type": "code",
   "execution_count": 8,
   "metadata": {},
   "outputs": [
    {
     "name": "stdout",
     "output_type": "stream",
     "text": [
      "You enter the name is selim hossain and the defalut name is i love you\n"
     ]
    }
   ],
   "source": [
    "def fun1(*args):\n",
    "    \n",
    "    print(f\"You enter the name is {args[0]} {args[1]} and the defalut name is {args[2]}\")\n",
    "    \n",
    "def main():\n",
    "    fun1(\"selim\", \"hossain\", \"i love you\", \"larkiya\", \"ajob\")\n",
    "    \n",
    "if __name__ == \"__main__\":\n",
    "    main()"
   ]
  }
 ],
 "metadata": {
  "kernelspec": {
   "display_name": "Python 3",
   "language": "python",
   "name": "python3"
  },
  "language_info": {
   "codemirror_mode": {
    "name": "ipython",
    "version": 3
   },
   "file_extension": ".py",
   "mimetype": "text/x-python",
   "name": "python",
   "nbconvert_exporter": "python",
   "pygments_lexer": "ipython3",
   "version": "3.7.4"
  }
 },
 "nbformat": 4,
 "nbformat_minor": 2
}
