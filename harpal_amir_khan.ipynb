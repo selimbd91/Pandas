{
 "cells": [
  {
   "cell_type": "code",
   "execution_count": 26,
   "metadata": {},
   "outputs": [
    {
     "name": "stdout",
     "output_type": "stream",
     "text": [
      "19\n",
      "[22, 34, 54, 56, 76, 54]\n",
      "55\n",
      "<<<<<<<<>>>>>>>>\n",
      "22\n",
      "34\n",
      "54\n",
      "56\n",
      "76\n",
      "54\n",
      "something\n",
      "8\n",
      "22\n",
      "34\n",
      "54\n",
      "56\n",
      "76\n",
      "54\n"
     ]
    }
   ],
   "source": [
    "\n",
    "def unpack(grades):\n",
    "    first, *middle, last = grades\n",
    "    \n",
    "    print(first)\n",
    "    print(middle)\n",
    "    print(last)\n",
    "    \n",
    "    print(\"<<<<<<<<>>>>>>>>\")\n",
    "    \n",
    "    \n",
    "    for grade in middle:\n",
    "        print(grade)\n",
    "        \n",
    "def love(*grades):\n",
    "    \n",
    "    print(len(grades))\n",
    "    \n",
    "    for i in range(1, len(grades) - 1):\n",
    "        print(grades[i])\n",
    "    \n",
    "def main():\n",
    "    \n",
    "    grades =  [19, 22, 34,54,56, 76, 54, 55]\n",
    "    #grades2 =  19, 22, 34,54,56, 76, 54, 55\n",
    "    unpack(grades)\n",
    "    print(\"something\")\n",
    "    love(19, 22, 34,54,56, 76, 54, 55)\n",
    "    \n",
    "if __name__ == \"__main__\":\n",
    "    main()\n",
    "    "
   ]
  },
  {
   "cell_type": "code",
   "execution_count": 37,
   "metadata": {},
   "outputs": [
    {
     "name": "stdout",
     "output_type": "stream",
     "text": [
      "[('selim', 'hossain'), ('roman', 'miah'), ('somon', 'karim')]\n"
     ]
    }
   ],
   "source": [
    "first = [\"selim\", \"roman\", \"somon\"]\n",
    "last = [\"hossain\", \"miah\", \"karim\"]\n",
    "\n",
    "names = zip(first, last)\n",
    "print(list(names))"
   ]
  },
  {
   "cell_type": "code",
   "execution_count": 40,
   "metadata": {},
   "outputs": [
    {
     "name": "stdout",
     "output_type": "stream",
     "text": [
      "<function quadratic.<locals>.<lambda> at 0x00000263A22423A8>\n",
      "66\n"
     ]
    }
   ],
   "source": [
    "def quadratic(a, b, c):\n",
    "    quad = lambda x : a*x**2 + b*x + c\n",
    "    return quad\n",
    "\n",
    "f = quadratic(2, 3, 1)\n",
    "print(f)\n",
    "print(f(5))"
   ]
  },
  {
   "cell_type": "code",
   "execution_count": 47,
   "metadata": {},
   "outputs": [
    {
     "name": "stdout",
     "output_type": "stream",
     "text": [
      "Enter the value:19\n",
      "0x13\n"
     ]
    }
   ],
   "source": [
    "val = int(input(\"Enter the value:\"))\n",
    "binary_val = hex(val)\n",
    "print(binary_val)"
   ]
  },
  {
   "cell_type": "code",
   "execution_count": 48,
   "metadata": {},
   "outputs": [
    {
     "name": "stdout",
     "output_type": "stream",
     "text": [
      "[{'selim': 'hossain', 'price': 199}, {'roman': 'miah', 'price': 200}, {'womo': 'juman', 'price': 12}]\n"
     ]
    }
   ],
   "source": [
    "name = [\n",
    "    {\"selim\":\"hossain\", \"price\":199},\n",
    "    {\"roman\": \"miah\", \"price\": 200}, \n",
    "    {\"womo\": \"juman\", \"price\": 12}\n",
    "]\n",
    "\n",
    "print(name)\n"
   ]
  },
  {
   "cell_type": "code",
   "execution_count": 105,
   "metadata": {},
   "outputs": [
    {
     "name": "stdout",
     "output_type": "stream",
     "text": [
      "dict_items([('selim', 101), ('roman', 342), ('kali', 2), ('soil', 454)])\n",
      "<class 'dict_items'>\n",
      "kali---->2\n",
      "selim---->101\n",
      "roman---->342\n",
      "soil---->454\n"
     ]
    }
   ],
   "source": [
    "val = {\"selim\": 101, \"roman\": 342, \"kali\": 2, \"soil\":454}\n",
    "\n",
    "print(val.items())\n",
    "print(type(val.items()))\n",
    "for key, value in sorted(val.items(), key= lambda x: x[1]):\n",
    "\n",
    "    print(f\"{key}---->{value}\")"
   ]
  },
  {
   "cell_type": "code",
   "execution_count": 104,
   "metadata": {},
   "outputs": [
    {
     "name": "stdout",
     "output_type": "stream",
     "text": [
      "[[55 62 89 32 21 30 59 74 11 55]]\n",
      "(1, 10)\n",
      "(6,)\n",
      "[34, 54, 5, 65, 76, 22]\n",
      "[5, 22, 34, 54, 65, 76]\n",
      "None\n"
     ]
    }
   ],
   "source": [
    "import numpy as np\n",
    "\n",
    "xx = np.array([np.random.randint(1, 101, 10)])\n",
    "print(xx)\n",
    "print(xx.shape)\n",
    "xy = [34, 54,5, 65, 76, 22]\n",
    "print(np.shape(xy))\n",
    "print(xy)\n",
    "\n",
    "print(sorted(xy))\n",
    "\n",
    "#xxx = list(xx.sort())\n",
    "xxx = xx.sort()\n",
    "print(xxx)"
   ]
  }
 ],
 "metadata": {
  "kernelspec": {
   "display_name": "Python 3",
   "language": "python",
   "name": "python3"
  },
  "language_info": {
   "codemirror_mode": {
    "name": "ipython",
    "version": 3
   },
   "file_extension": ".py",
   "mimetype": "text/x-python",
   "name": "python",
   "nbconvert_exporter": "python",
   "pygments_lexer": "ipython3",
   "version": "3.7.4"
  }
 },
 "nbformat": 4,
 "nbformat_minor": 2
}
