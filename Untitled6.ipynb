{
 "cells": [
  {
   "cell_type": "code",
   "execution_count": 2,
   "metadata": {},
   "outputs": [],
   "source": [
    "import numpy as np\n",
    "import matplotlib.pyplot as plt\n",
    "%matplotlib inline"
   ]
  },
  {
   "cell_type": "code",
   "execution_count": 18,
   "metadata": {},
   "outputs": [
    {
     "data": {
      "text/plain": [
       "2"
      ]
     },
     "metadata": {},
     "output_type": "display_data"
    },
    {
     "data": {
      "text/plain": [
       "3"
      ]
     },
     "metadata": {},
     "output_type": "display_data"
    }
   ],
   "source": [
    "a = np.array([[1,2,3], [4, 5, 6]])\n",
    "\n"
   ]
  },
  {
   "cell_type": "code",
   "execution_count": 32,
   "metadata": {},
   "outputs": [
    {
     "data": {
      "text/plain": [
       "array([[1],\n",
       "       [1],\n",
       "       [1]])"
      ]
     },
     "execution_count": 32,
     "metadata": {},
     "output_type": "execute_result"
    }
   ],
   "source": [
    "b = np.array([[1], [1], [1]], dtype= 'int')\n",
    "b\n"
   ]
  },
  {
   "cell_type": "code",
   "execution_count": 8,
   "metadata": {},
   "outputs": [
    {
     "data": {
      "text/plain": [
       "array([[0],\n",
       "       [1]], dtype=int32)"
      ]
     },
     "execution_count": 8,
     "metadata": {},
     "output_type": "execute_result"
    }
   ],
   "source": [
    "c= np.dot(a, b)\n",
    "np.mod(c, 2)"
   ]
  },
  {
   "cell_type": "code",
   "execution_count": 133,
   "metadata": {},
   "outputs": [
    {
     "data": {
      "text/plain": [
       "array([[0],\n",
       "       [0],\n",
       "       [0]])"
      ]
     },
     "execution_count": 133,
     "metadata": {},
     "output_type": "execute_result"
    }
   ],
   "source": [
    "d= np.zeros((3,1), dtype= 'int')\n",
    "d"
   ]
  },
  {
   "cell_type": "code",
   "execution_count": 134,
   "metadata": {},
   "outputs": [
    {
     "data": {
      "text/plain": [
       "array([[1],\n",
       "       [1],\n",
       "       [1],\n",
       "       [0],\n",
       "       [0],\n",
       "       [0]])"
      ]
     },
     "execution_count": 134,
     "metadata": {},
     "output_type": "execute_result"
    }
   ],
   "source": [
    "np.vstack((b,d))"
   ]
  },
  {
   "cell_type": "code",
   "execution_count": 44,
   "metadata": {},
   "outputs": [
    {
     "data": {
      "text/plain": [
       "array([[2.+3.j, 3.+4.j],\n",
       "       [0.+5.j, 3.+0.j]])"
      ]
     },
     "execution_count": 44,
     "metadata": {},
     "output_type": "execute_result"
    }
   ],
   "source": [
    "oo = np.array([[np.complex(2, 3), np.complex(3,4)], [np.complex(0,5), np.complex(3)]])\n",
    "oo"
   ]
  },
  {
   "cell_type": "code",
   "execution_count": 46,
   "metadata": {},
   "outputs": [
    {
     "data": {
      "text/plain": [
       "10"
      ]
     },
     "execution_count": 46,
     "metadata": {},
     "output_type": "execute_result"
    }
   ],
   "source": [
    "int('1010', 2)"
   ]
  },
  {
   "cell_type": "code",
   "execution_count": 148,
   "metadata": {},
   "outputs": [
    {
     "data": {
      "text/plain": [
       "array([[1],\n",
       "       [0],\n",
       "       [0],\n",
       "       [1],\n",
       "       [1],\n",
       "       [1],\n",
       "       [1],\n",
       "       [0],\n",
       "       [1]])"
      ]
     },
     "execution_count": 148,
     "metadata": {},
     "output_type": "execute_result"
    }
   ],
   "source": [
    "j = np.array([[1],[0],[0],[1],[1],[1],[1],[0],[1]], dtype='int')\n",
    "j"
   ]
  },
  {
   "cell_type": "code",
   "execution_count": 70,
   "metadata": {},
   "outputs": [
    {
     "data": {
      "text/plain": [
       "'10'"
      ]
     },
     "execution_count": 70,
     "metadata": {},
     "output_type": "execute_result"
    }
   ],
   "source": [
    "k= j[0,0]\n",
    "m= str(k)\n",
    "kk = j[1,0]\n",
    "mm = str(kk)\n",
    "\n",
    "mmm = m+mm\n",
    "mmm"
   ]
  },
  {
   "cell_type": "code",
   "execution_count": 72,
   "metadata": {},
   "outputs": [
    {
     "data": {
      "text/plain": [
       "2"
      ]
     },
     "execution_count": 72,
     "metadata": {},
     "output_type": "execute_result"
    }
   ],
   "source": [
    "int(mmm,2)"
   ]
  },
  {
   "cell_type": "code",
   "execution_count": 77,
   "metadata": {},
   "outputs": [
    {
     "data": {
      "text/plain": [
       "6"
      ]
     },
     "execution_count": 77,
     "metadata": {},
     "output_type": "execute_result"
    }
   ],
   "source": [
    "len(j)"
   ]
  },
  {
   "cell_type": "code",
   "execution_count": 151,
   "metadata": {},
   "outputs": [
    {
     "name": "stdout",
     "output_type": "stream",
     "text": [
      "['1', '0', '0', '1', '1', '1', '1', '0', '1']\n",
      "100\n",
      "4\n",
      "111\n",
      "7\n",
      "101\n",
      "5\n"
     ]
    }
   ],
   "source": [
    "mmmm = []\n",
    "for i in range(0,len(j),3):\n",
    "    #print(i)\n",
    "    for s in range(0,3):\n",
    "        k= j[i+s,0]\n",
    "        m= str(k)\n",
    "#     kk = j[i+s,0]\n",
    "#     mm = str(kk)\n",
    "#     kkk= j[i+s,0]\n",
    "#     mmm= str(kkk)\n",
    "\n",
    "#     mmmm = m+mm+mmm\n",
    "    \n",
    "        mmmm.append(m)\n",
    "        #xx.append(mmm)\n",
    "print(mmmm)\n",
    "for jj in range(0, len(mmmm), 3):\n",
    "    #lll = ''.join(mmmm([jj : 3+jj]))\n",
    "    ll= ''.join(mmmm[jj:3+jj])\n",
    "    sim = int(ll,2)\n",
    "                  \n",
    "    #qq = int(''.join(mmmm[jj:3]),2)\n",
    "    print(ll)\n",
    "    print(sim)\n",
    "#print(xx)\n",
    "    "
   ]
  },
  {
   "cell_type": "code",
   "execution_count": 110,
   "metadata": {},
   "outputs": [
    {
     "data": {
      "text/plain": [
       "['1', '0', '0', '1', '1', '1', '1', '0', '1']"
      ]
     },
     "execution_count": 110,
     "metadata": {},
     "output_type": "execute_result"
    }
   ],
   "source": [
    "mmmm"
   ]
  },
  {
   "cell_type": "code",
   "execution_count": null,
   "metadata": {},
   "outputs": [],
   "source": []
  },
  {
   "cell_type": "code",
   "execution_count": 126,
   "metadata": {},
   "outputs": [
    {
     "data": {
      "text/plain": [
       "array([[1],\n",
       "       [0],\n",
       "       [0],\n",
       "       [1],\n",
       "       [1],\n",
       "       [1],\n",
       "       [1],\n",
       "       [0],\n",
       "       [1]])"
      ]
     },
     "execution_count": 126,
     "metadata": {},
     "output_type": "execute_result"
    }
   ],
   "source": [
    "j"
   ]
  },
  {
   "cell_type": "code",
   "execution_count": 136,
   "metadata": {},
   "outputs": [
    {
     "data": {
      "text/plain": [
       "1"
      ]
     },
     "execution_count": 136,
     "metadata": {},
     "output_type": "execute_result"
    }
   ],
   "source": [
    "j[0,0]"
   ]
  },
  {
   "cell_type": "code",
   "execution_count": 145,
   "metadata": {},
   "outputs": [
    {
     "name": "stdout",
     "output_type": "stream",
     "text": [
      "0\n",
      "1\n",
      "2\n",
      "3\n",
      "4\n",
      "5\n",
      "6\n",
      "7\n",
      "8\n",
      "[[1]\n",
      " [0]\n",
      " [0]\n",
      " [1]\n",
      " [1]\n",
      " [1]\n",
      " [1]\n",
      " [0]\n",
      " [1]]\n"
     ]
    }
   ],
   "source": [
    "\n",
    "cc = np.zeros((0,1),dtype='int')\n",
    "for i in range(len(j)):\n",
    "    print(i)\n",
    "    cc=np.vstack((cc, j[i,0]))\n",
    "print(cc)"
   ]
  },
  {
   "cell_type": "code",
   "execution_count": 163,
   "metadata": {},
   "outputs": [
    {
     "data": {
      "text/plain": [
       "135.0"
      ]
     },
     "execution_count": 163,
     "metadata": {},
     "output_type": "execute_result"
    }
   ],
   "source": [
    "co = np.complex(-1/np.sqrt(2),1/np.sqrt(2))\n",
    "np.angle(co,deg=True)"
   ]
  },
  {
   "cell_type": "code",
   "execution_count": 181,
   "metadata": {},
   "outputs": [
    {
     "name": "stdout",
     "output_type": "stream",
     "text": [
      "50\n",
      "40\n",
      "20\n",
      "[[50]\n",
      " [40]\n",
      " [20]]\n",
      "[[50  1]\n",
      " [40  2]\n",
      " [20  3]]\n"
     ]
    }
   ],
   "source": [
    "tt = np.array([[10],[20],[30],[40],[50],[60]])\n",
    "rr = np.array([[1], [2], [3]])\n",
    "ss = np.zeros((0,1),dtype='int')\n",
    "for i in range(3):\n",
    "    ra = np.random.randint(0, 5)\n",
    "    aa = tt[ra, 0]\n",
    "    print(aa)\n",
    "    ss = np.vstack((ss,aa))\n",
    "print(ss)\n",
    "pp= np.hstack((ss,rr))\n",
    "print(pp)\n",
    "\n",
    "#ran = np.random.randint(0, 5, (3,1))\n",
    "#print(ran)\n",
    "#print(tt[1,0])\n",
    "# kk= np.zeros(0)\n",
    "# for i in range(len(ran)):\n",
    "#     kk(i,1)= np.hstack(kk,tt[ran[i,0],0])\n",
    "# print(kk)"
   ]
  },
  {
   "cell_type": "code",
   "execution_count": 193,
   "metadata": {},
   "outputs": [
    {
     "name": "stdout",
     "output_type": "stream",
     "text": [
      "[ 4.5       +0.j          2.08155948-1.65109876j -1.83155948+1.60822041j\n",
      " -1.83155948-1.60822041j  2.08155948+1.65109876j]\n"
     ]
    }
   ],
   "source": [
    "import scipy as sp\n",
    "x = np.array([1.0, 2.0, 1.0, -1.0, 1.5])\n",
    "p= sp.fft(x)\n",
    "print(p)\n",
    "\n",
    "\n"
   ]
  },
  {
   "cell_type": "code",
   "execution_count": 191,
   "metadata": {},
   "outputs": [
    {
     "name": "stdout",
     "output_type": "stream",
     "text": [
      "(1, 8)\n"
     ]
    },
    {
     "data": {
      "text/plain": [
       "array([[2, 3, 4]])"
      ]
     },
     "execution_count": 191,
     "metadata": {},
     "output_type": "execute_result"
    }
   ],
   "source": [
    "jj = np.array([[1,2,3,4,5,6,7,8]])\n",
    "print(jj.shape)\n",
    "jj[:,1:4]"
   ]
  },
  {
   "cell_type": "code",
   "execution_count": 195,
   "metadata": {},
   "outputs": [
    {
     "data": {
      "text/plain": [
       "array([23,  1,  2,  3,  4])"
      ]
     },
     "execution_count": 195,
     "metadata": {},
     "output_type": "execute_result"
    }
   ],
   "source": [
    "kk = np.arange(1,5)\n",
    "kkk = np.hstack((23,kk))\n",
    "kkk"
   ]
  },
  {
   "cell_type": "code",
   "execution_count": 209,
   "metadata": {
    "scrolled": false
   },
   "outputs": [
    {
     "data": {
      "text/plain": [
       "[<matplotlib.lines.Line2D at 0x1c93608d688>]"
      ]
     },
     "execution_count": 209,
     "metadata": {},
     "output_type": "execute_result"
    },
    {
     "data": {
      "image/png": "[encoded data removed]",
      "text/plain": [
       "<Figure size 432x288 with 1 Axes>"
      ]
     },
     "metadata": {
      "needs_background": "light"
     },
     "output_type": "display_data"
    }
   ],
   "source": [
    "from scipy import signal\n",
    "import matplotlib.pyplot as plt\n",
    "%matplotlib inline\n"
   ]
  },
  {
   "cell_type": "code",
   "execution_count": 212,
   "metadata": {},
   "outputs": [
    {
     "data": {
      "text/plain": [
       "array([[0., 0., 0., 0., 0.]])"
      ]
     },
     "execution_count": 212,
     "metadata": {},
     "output_type": "execute_result"
    }
   ],
   "source": [
    "np.zeros((1,5))"
   ]
  },
  {
   "cell_type": "code",
   "execution_count": 206,
   "metadata": {},
   "outputs": [
    {
     "data": {
      "text/plain": [
       "[<matplotlib.lines.Line2D at 0x1c93605d608>]"
      ]
     },
     "execution_count": 206,
     "metadata": {},
     "output_type": "execute_result"
    },
    {
     "data": {
      "image/png": "[encoded data removed]",
      "text/plain": [
       "<Figure size 432x288 with 1 Axes>"
      ]
     },
     "metadata": {
      "needs_background": "light"
     },
     "output_type": "display_data"
    }
   ],
   "source": [
    "b = signal.firwin(60, 0.1)\n",
    "plt.plot(b)"
   ]
  },
  {
   "cell_type": "code",
   "execution_count": 328,
   "metadata": {},
   "outputs": [
    {
     "name": "stdout",
     "output_type": "stream",
     "text": [
      "5\n",
      "[[1.+2.j 0.+0.j 0.+0.j 0.+0.j 0.+0.j 0.+0.j 2.+4.j 0.+0.j 0.+0.j 0.+0.j\n",
      "  0.+0.j 0.+0.j 3.+5.j 0.+0.j 0.+0.j 0.+0.j 0.+0.j 0.+0.j 4.+5.j 0.+0.j\n",
      "  0.+0.j 0.+0.j 0.+0.j 0.+0.j 5.+3.j 0.+0.j 0.+0.j 0.+0.j 0.+0.j 0.+0.j]]\n"
     ]
    }
   ],
   "source": [
    "asa = np.array([[np.complex(1,2),np.complex(2,4),np.complex(3,5),np.complex(4,5),np.complex(5,3)]])\n",
    "r,col = asa.shape\n",
    "aa = np.hstack((asa[0,0], np.zeros(5)))\n",
    "for i in range(1,col):\n",
    "    bb = np.hstack((asa[0,i], np.zeros(5)))\n",
    "    aa = np.append(aa,bb )\n",
    "ccc = np.array([aa])\n",
    "print(ccc)\n",
    "    "
   ]
  },
  {
   "cell_type": "code",
   "execution_count": 281,
   "metadata": {},
   "outputs": [
    {
     "name": "stdout",
     "output_type": "stream",
     "text": [
      "[5. 0. 0. 0. 0. 0. 5. 0. 0. 0. 0. 0.]\n"
     ]
    }
   ],
   "source": [
    "rr = np.zeros((5))\n",
    "re = np.array([[1,2,3,4,5]])\n",
    "kk =np.zeros((1,5))\n",
    "for i in range(5):\n",
    "    kll= np.hstack((re[0,i], rr))\n",
    "    #print(kll)\n",
    "    kkk = np.hstack((kll,kll))\n",
    "    np.append(kk,kkk, axis=1)\n",
    "print(kkk)"
   ]
  },
  {
   "cell_type": "code",
   "execution_count": 310,
   "metadata": {},
   "outputs": [
    {
     "name": "stdout",
     "output_type": "stream",
     "text": [
      "(3,)\n"
     ]
    },
    {
     "data": {
      "text/plain": [
       "array([ 1,  2,  3,  4,  5,  6,  7,  8,  9, 11, 22, 33])"
      ]
     },
     "execution_count": 310,
     "metadata": {},
     "output_type": "execute_result"
    }
   ],
   "source": [
    "aa = np.array([1, 2, 3])\n",
    "print(aa.shape)\n",
    "bb = np.array([4, 5, 6,7, 8, 9])\n",
    "oil = np.append(aa,bb )\n",
    "np.append(oil,[11,22,33])\n"
   ]
  },
  {
   "cell_type": "code",
   "execution_count": 342,
   "metadata": {},
   "outputs": [
    {
     "name": "stdout",
     "output_type": "stream",
     "text": [
      "[[-4.55805346e-21]\n",
      " [-2.12080821e-06]\n",
      " [-5.78142814e-06]\n",
      " [-1.12925098e-05]\n",
      " [-1.89109644e-05]\n",
      " [-2.88058114e-05]\n",
      " [-4.10221341e-05]\n",
      " [-5.54450776e-05]\n",
      " [-7.17661582e-05]\n",
      " [-8.94544013e-05]\n",
      " [-1.07734970e-04]\n",
      " [-1.25577961e-04]\n",
      " [-1.41699902e-04]\n",
      " [-1.54580192e-04]\n",
      " [-1.62494270e-04]\n",
      " [-1.63564651e-04]\n",
      " [-1.55830218e-04]\n",
      " [-1.37333244e-04]\n",
      " [-1.06222610e-04]\n",
      " [-6.08706566e-05]\n",
      " [ 1.61248324e-19]\n",
      " [ 7.71843454e-05]\n",
      " [ 1.70863151e-04]\n",
      " [ 2.80477840e-04]\n",
      " [ 4.04618981e-04]\n",
      " [ 5.40935667e-04]\n",
      " [ 6.86073031e-04]\n",
      " [ 8.35644843e-04]\n",
      " [ 9.84247427e-04]\n",
      " [ 1.12552010e-03]\n",
      " [ 1.25225599e-03]\n",
      " [ 1.35656521e-03]\n",
      " [ 1.43009075e-03]\n",
      " [ 1.46427468e-03]\n",
      " [ 1.45067050e-03]\n",
      " [ 1.38129472e-03]\n",
      " [ 1.24900846e-03]\n",
      " [ 1.04791790e-03]\n",
      " [ 7.73780127e-04]\n",
      " [ 4.24399700e-04]\n",
      " [-7.19076216e-19]\n",
      " [-4.96447174e-04]\n",
      " [-1.05895014e-03]\n",
      " [-1.67829976e-03]\n",
      " [-2.34196009e-03]\n",
      " [-3.03405967e-03]\n",
      " [-3.73549299e-03]\n",
      " [-4.42413879e-03]\n",
      " [-5.07519773e-03]\n",
      " [-5.66164817e-03]\n",
      " [-6.15481454e-03]\n",
      " [-6.52503809e-03]\n",
      " [-6.74243591e-03]\n",
      " [-6.77772976e-03]\n",
      " [-6.60312292e-03]\n",
      " [-6.19319987e-03]\n",
      " [-5.52582184e-03]\n",
      " [-4.58298926e-03]\n",
      " [-3.35164211e-03]\n",
      " [-1.82436928e-03]\n",
      " [ 1.53716817e-18]\n",
      " [ 2.11594747e-03]\n",
      " [ 4.51098086e-03]\n",
      " [ 7.16552927e-03]\n",
      " [ 1.00530306e-02]\n",
      " [ 1.31402163e-02]\n",
      " [ 1.63875941e-02]\n",
      " [ 1.97501209e-02]\n",
      " [ 2.31780529e-02]\n",
      " [ 2.66179553e-02]\n",
      " [ 3.00138449e-02]\n",
      " [ 3.33084372e-02]\n",
      " [ 3.64444646e-02]\n",
      " [ 3.93660279e-02]\n",
      " [ 4.20199444e-02]\n",
      " [ 4.43570520e-02]\n",
      " [ 4.63334316e-02]\n",
      " [ 4.79115123e-02]\n",
      " [ 4.90610241e-02]\n",
      " [ 4.97597724e-02]\n",
      " [ 4.99942070e-02]\n",
      " [ 4.97597724e-02]\n",
      " [ 4.90610241e-02]\n",
      " [ 4.79115123e-02]\n",
      " [ 4.63334316e-02]\n",
      " [ 4.43570520e-02]\n",
      " [ 4.20199444e-02]\n",
      " [ 3.93660279e-02]\n",
      " [ 3.64444646e-02]\n",
      " [ 3.33084372e-02]\n",
      " [ 3.00138449e-02]\n",
      " [ 2.66179553e-02]\n",
      " [ 2.31780529e-02]\n",
      " [ 1.97501209e-02]\n",
      " [ 1.63875941e-02]\n",
      " [ 1.31402163e-02]\n",
      " [ 1.00530306e-02]\n",
      " [ 7.16552927e-03]\n",
      " [ 4.51098086e-03]\n",
      " [ 2.11594747e-03]\n",
      " [ 1.53716817e-18]\n",
      " [-1.82436928e-03]\n",
      " [-3.35164211e-03]\n",
      " [-4.58298926e-03]\n",
      " [-5.52582184e-03]\n",
      " [-6.19319987e-03]\n",
      " [-6.60312292e-03]\n",
      " [-6.77772976e-03]\n",
      " [-6.74243591e-03]\n",
      " [-6.52503809e-03]\n",
      " [-6.15481454e-03]\n",
      " [-5.66164817e-03]\n",
      " [-5.07519773e-03]\n",
      " [-4.42413879e-03]\n",
      " [-3.73549299e-03]\n",
      " [-3.03405967e-03]\n",
      " [-2.34196009e-03]\n",
      " [-1.67829976e-03]\n",
      " [-1.05895014e-03]\n",
      " [-4.96447174e-04]\n",
      " [-7.19076216e-19]\n",
      " [ 4.24399700e-04]\n",
      " [ 7.73780127e-04]\n",
      " [ 1.04791790e-03]\n",
      " [ 1.24900846e-03]\n",
      " [ 1.38129472e-03]\n",
      " [ 1.45067050e-03]\n",
      " [ 1.46427468e-03]\n",
      " [ 1.43009075e-03]\n",
      " [ 1.35656521e-03]\n",
      " [ 1.25225599e-03]\n",
      " [ 1.12552010e-03]\n",
      " [ 9.84247427e-04]\n",
      " [ 8.35644843e-04]\n",
      " [ 6.86073031e-04]\n",
      " [ 5.40935667e-04]\n",
      " [ 4.04618981e-04]\n",
      " [ 2.80477840e-04]\n",
      " [ 1.70863151e-04]\n",
      " [ 7.71843454e-05]\n",
      " [ 1.61248324e-19]\n",
      " [-6.08706566e-05]\n",
      " [-1.06222610e-04]\n",
      " [-1.37333244e-04]\n",
      " [-1.55830218e-04]\n",
      " [-1.63564651e-04]\n",
      " [-1.62494270e-04]\n",
      " [-1.54580192e-04]\n",
      " [-1.41699902e-04]\n",
      " [-1.25577961e-04]\n",
      " [-1.07734970e-04]\n",
      " [-8.94544013e-05]\n",
      " [-7.17661582e-05]\n",
      " [-5.54450776e-05]\n",
      " [-4.10221341e-05]\n",
      " [-2.88058114e-05]\n",
      " [-1.89109644e-05]\n",
      " [-1.12925098e-05]\n",
      " [-5.78142814e-06]\n",
      " [-2.12080821e-06]\n",
      " [-4.55805346e-21]]\n"
     ]
    }
   ],
   "source": [
    "LPF = signal.firwin(161, 0.05, window=('kaiser', 8))\n",
    "LPF\n",
    "uu = np.array([LPF])\n",
    "print(np.transpose(uu))"
   ]
  },
  {
   "cell_type": "code",
   "execution_count": 351,
   "metadata": {},
   "outputs": [
    {
     "data": {
      "text/plain": [
       "array([1, 2, 3])"
      ]
     },
     "execution_count": 351,
     "metadata": {},
     "output_type": "execute_result"
    }
   ],
   "source": [
    "cc = np.array([[1,2,3,4,5,6]])\n",
    "dd = np.array([[7,8,9,0,3,4]])\n",
    "\n",
    "cc[0,0:-1-2]\n"
   ]
  }
 ],
 "metadata": {
  "kernelspec": {
   "display_name": "Python 3",
   "language": "python",
   "name": "python3"
  },
  "language_info": {
   "codemirror_mode": {
    "name": "ipython",
    "version": 3
   },
   "file_extension": ".py",
   "mimetype": "text/x-python",
   "name": "python",
   "nbconvert_exporter": "python",
   "pygments_lexer": "ipython3",
   "version": "3.7.4"
  }
 },
 "nbformat": 4,
 "nbformat_minor": 2
}
