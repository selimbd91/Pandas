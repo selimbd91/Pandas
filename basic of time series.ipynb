{
 "cells": [
  {
   "cell_type": "code",
   "execution_count": 1,
   "metadata": {},
   "outputs": [],
   "source": [
    "import time"
   ]
  },
  {
   "cell_type": "code",
   "execution_count": 3,
   "metadata": {},
   "outputs": [
    {
     "data": {
      "text/plain": [
       "'Sat Mar 28 18:00:39 2020'"
      ]
     },
     "execution_count": 3,
     "metadata": {},
     "output_type": "execute_result"
    }
   ],
   "source": [
    "c_time = time.ctime()\n",
    "c_time"
   ]
  },
  {
   "cell_type": "code",
   "execution_count": 4,
   "metadata": {},
   "outputs": [
    {
     "data": {
      "text/plain": [
       "1585414894.5657766"
      ]
     },
     "execution_count": 4,
     "metadata": {},
     "output_type": "execute_result"
    }
   ],
   "source": [
    "epoch_time = time.time()\n",
    "epoch_time"
   ]
  },
  {
   "cell_type": "code",
   "execution_count": 5,
   "metadata": {},
   "outputs": [
    {
     "data": {
      "text/plain": [
       "time.struct_time(tm_year=2020, tm_mon=3, tm_mday=28, tm_hour=18, tm_min=2, tm_sec=2, tm_wday=5, tm_yday=88, tm_isdst=0)"
      ]
     },
     "execution_count": 5,
     "metadata": {},
     "output_type": "execute_result"
    }
   ],
   "source": [
    "local_time = time.localtime()\n",
    "local_time\n"
   ]
  },
  {
   "cell_type": "code",
   "execution_count": 7,
   "metadata": {},
   "outputs": [
    {
     "data": {
      "text/plain": [
       "2020"
      ]
     },
     "execution_count": 7,
     "metadata": {},
     "output_type": "execute_result"
    }
   ],
   "source": [
    "local_time.tm_year"
   ]
  },
  {
   "cell_type": "code",
   "execution_count": 8,
   "metadata": {},
   "outputs": [
    {
     "data": {
      "text/plain": [
       "3"
      ]
     },
     "execution_count": 8,
     "metadata": {},
     "output_type": "execute_result"
    }
   ],
   "source": [
    "local_time.tm_mon"
   ]
  },
  {
   "cell_type": "code",
   "execution_count": 9,
   "metadata": {},
   "outputs": [
    {
     "data": {
      "text/plain": [
       "28"
      ]
     },
     "execution_count": 9,
     "metadata": {},
     "output_type": "execute_result"
    }
   ],
   "source": [
    "local_time.tm_mday"
   ]
  },
  {
   "cell_type": "code",
   "execution_count": 11,
   "metadata": {},
   "outputs": [
    {
     "data": {
      "text/plain": [
       "time.struct_time(tm_year=2020, tm_mon=3, tm_mday=28, tm_hour=17, tm_min=3, tm_sec=41, tm_wday=5, tm_yday=88, tm_isdst=0)"
      ]
     },
     "execution_count": 11,
     "metadata": {},
     "output_type": "execute_result"
    }
   ],
   "source": [
    "green_time = time.gmtime()\n",
    "green_time\n"
   ]
  },
  {
   "cell_type": "code",
   "execution_count": 12,
   "metadata": {},
   "outputs": [
    {
     "data": {
      "text/plain": [
       "'Sat Mar 28 18:02:02 2020'"
      ]
     },
     "execution_count": 12,
     "metadata": {},
     "output_type": "execute_result"
    }
   ],
   "source": [
    "convert_time = time.asctime(local_time)\n",
    "convert_time"
   ]
  },
  {
   "cell_type": "code",
   "execution_count": 20,
   "metadata": {},
   "outputs": [
    {
     "data": {
      "text/plain": [
       "1585415381.0"
      ]
     },
     "execution_count": 20,
     "metadata": {},
     "output_type": "execute_result"
    }
   ],
   "source": [
    "mk_epoch = time.mktime(time.localtime())\n",
    "mk_epoch"
   ]
  },
  {
   "cell_type": "code",
   "execution_count": 22,
   "metadata": {},
   "outputs": [
    {
     "data": {
      "text/plain": [
       "'Sat Mar 28 18:09:41 2020'"
      ]
     },
     "execution_count": 22,
     "metadata": {},
     "output_type": "execute_result"
    }
   ],
   "source": [
    "time.ctime(1585415381.0)"
   ]
  },
  {
   "cell_type": "code",
   "execution_count": 25,
   "metadata": {},
   "outputs": [
    {
     "data": {
      "text/plain": [
       "'28-03-2020 17:03:41'"
      ]
     },
     "execution_count": 25,
     "metadata": {},
     "output_type": "execute_result"
    }
   ],
   "source": [
    "time.strftime('%d-%m-%Y %H:%M:%S',green_time)"
   ]
  },
  {
   "cell_type": "code",
   "execution_count": 26,
   "metadata": {},
   "outputs": [],
   "source": [
    "import numpy as np"
   ]
  },
  {
   "cell_type": "code",
   "execution_count": 40,
   "metadata": {},
   "outputs": [
    {
     "data": {
      "text/plain": [
       "array([[2, 7, 8, 2],\n",
       "       [9, 0, 0, 1],\n",
       "       [7, 6, 3, 1],\n",
       "       [8, 5, 7, 9],\n",
       "       [0, 0, 0, 8]])"
      ]
     },
     "execution_count": 40,
     "metadata": {},
     "output_type": "execute_result"
    }
   ],
   "source": [
    "x = np.random.randint(low= 0, high= 10, size= (5, 4))\n",
    "x"
   ]
  },
  {
   "cell_type": "code",
   "execution_count": 44,
   "metadata": {},
   "outputs": [],
   "source": [
    "normal_dist = np.random.normal(10, 2, 300)\n"
   ]
  },
  {
   "cell_type": "code",
   "execution_count": 49,
   "metadata": {},
   "outputs": [],
   "source": [
    "import matplotlib.pyplot as plt\n",
    "import seaborn as sns\n",
    "%matplotlib inline\n"
   ]
  },
  {
   "cell_type": "code",
   "execution_count": 53,
   "metadata": {},
   "outputs": [
    {
     "data": {
      "image/png": "[encoded data removed]",
      "text/plain": [
       "<Figure size 432x288 with 1 Axes>"
      ]
     },
     "metadata": {
      "needs_background": "light"
     },
     "output_type": "display_data"
    }
   ],
   "source": [
    "ax = sns.distplot(normal_dist, color= 'red',hist= False )"
   ]
  },
  {
   "cell_type": "code",
   "execution_count": 57,
   "metadata": {},
   "outputs": [
    {
     "data": {
      "image/png": "[encoded data removed]",
      "text/plain": [
       "<Figure size 432x288 with 1 Axes>"
      ]
     },
     "metadata": {
      "needs_background": "light"
     },
     "output_type": "display_data"
    }
   ],
   "source": [
    "yy = np.random.uniform(0, 1, 5000)\n",
    "ax = sns.distplot(yy)"
   ]
  },
  {
   "cell_type": "code",
   "execution_count": 58,
   "metadata": {},
   "outputs": [
    {
     "data": {
      "image/png": "[encoded data removed]",
      "text/plain": [
       "<Figure size 432x288 with 1 Axes>"
      ]
     },
     "metadata": {
      "needs_background": "light"
     },
     "output_type": "display_data"
    }
   ],
   "source": [
    "tt = np.random.randint(0,50, 50000)\n",
    "ax = sns.distplot(tt)"
   ]
  },
  {
   "cell_type": "code",
   "execution_count": 59,
   "metadata": {},
   "outputs": [
    {
     "data": {
      "text/plain": [
       "array([ 0.36650315, -0.72517397,  0.87983353,  2.44920127, -0.97627309,\n",
       "       -1.02028349,  0.89806218, -1.74596671, -0.25933958,  0.18732585,\n",
       "        1.89931363,  0.55502172, -0.97916896, -0.03561832, -1.54354657,\n",
       "       -1.60275888, -0.0148148 , -0.36064625, -1.5592572 , -0.01274489,\n",
       "        0.52446518,  0.30174253, -0.65987637, -0.70597677,  0.88832949,\n",
       "        0.34089087, -2.11401152, -0.65996479,  0.61548363,  2.46699144,\n",
       "       -1.70718424,  0.67089886, -0.17703851,  1.48454088,  0.75569948,\n",
       "       -0.17470493,  1.05935469, -0.06190237,  0.94720106,  0.24614426,\n",
       "        0.98581051,  0.97592306,  1.62439514, -0.04200021,  0.72297981,\n",
       "        1.8941981 , -0.34631148,  1.67695667, -2.2458337 ,  0.74621265])"
      ]
     },
     "execution_count": 59,
     "metadata": {},
     "output_type": "execute_result"
    }
   ],
   "source": [
    "xx = np.random.normal(0, 1, 50)\n",
    "xx"
   ]
  },
  {
   "cell_type": "code",
   "execution_count": 60,
   "metadata": {},
   "outputs": [
    {
     "data": {
      "text/plain": [
       "0.12866163997502472"
      ]
     },
     "execution_count": 60,
     "metadata": {},
     "output_type": "execute_result"
    }
   ],
   "source": [
    "xx.mean()"
   ]
  },
  {
   "cell_type": "code",
   "execution_count": 71,
   "metadata": {},
   "outputs": [],
   "source": [
    "list_normal = []\n",
    "\n",
    "for i in range(50):\n",
    "    v = np.random.normal(0, 1, 50)\n",
    "    list_normal.append(v.mean())"
   ]
  },
  {
   "cell_type": "code",
   "execution_count": 72,
   "metadata": {},
   "outputs": [
    {
     "data": {
      "text/plain": [
       "[-0.11227365083250776,\n",
       " -0.0007235007674280869,\n",
       " 0.2709097121087047,\n",
       " 0.03327960550390072,\n",
       " 0.14671512706626924,\n",
       " 0.22942626744341996,\n",
       " 0.07748264126859207,\n",
       " -0.09899146626835062,\n",
       " -0.17060051500271686,\n",
       " 0.29499960891774796,\n",
       " -0.009524326619210837,\n",
       " 0.019956403799802604,\n",
       " -0.06512437815073616,\n",
       " -0.0012132766473604906,\n",
       " -0.29820662638124834,\n",
       " -0.09869297839036045,\n",
       " -0.13864299591484694,\n",
       " 0.17600158778300823,\n",
       " -0.0068390772932924015,\n",
       " 0.213235300439771,\n",
       " -0.1366828834017497,\n",
       " 0.04148928945397145,\n",
       " -0.03257083475595381,\n",
       " -0.04581220711153838,\n",
       " -0.01644556031958725,\n",
       " -0.11631207464137319,\n",
       " 0.007888536836910603,\n",
       " 0.15229769137708327,\n",
       " 0.10531516838437842,\n",
       " -0.1948473889572636,\n",
       " -0.08312582663140416,\n",
       " 0.11803908741124935,\n",
       " -0.18890275164206638,\n",
       " -0.01948112247006121,\n",
       " 0.03295153229752283,\n",
       " -0.2119232273303231,\n",
       " 0.003078416634990735,\n",
       " 0.15047450300199022,\n",
       " -0.08789510166263993,\n",
       " -0.025410721265440476,\n",
       " -0.1473904429931635,\n",
       " -0.2808432963491861,\n",
       " 0.04326546497767902,\n",
       " 0.0030283558579173244,\n",
       " 0.1738141153761249,\n",
       " -0.2351686377908134,\n",
       " -0.14917676515601969,\n",
       " 0.027912989884719533,\n",
       " -0.20448420212234847,\n",
       " 0.003433510606100765]"
      ]
     },
     "execution_count": 72,
     "metadata": {},
     "output_type": "execute_result"
    }
   ],
   "source": [
    "list_normal"
   ]
  },
  {
   "cell_type": "code",
   "execution_count": 73,
   "metadata": {},
   "outputs": [
    {
     "data": {
      "text/plain": [
       "array([-0.11227365, -0.0007235 ,  0.27090971,  0.03327961,  0.14671513,\n",
       "        0.22942627,  0.07748264, -0.09899147, -0.17060052,  0.29499961,\n",
       "       -0.00952433,  0.0199564 , -0.06512438, -0.00121328, -0.29820663,\n",
       "       -0.09869298, -0.138643  ,  0.17600159, -0.00683908,  0.2132353 ,\n",
       "       -0.13668288,  0.04148929, -0.03257083, -0.04581221, -0.01644556,\n",
       "       -0.11631207,  0.00788854,  0.15229769,  0.10531517, -0.19484739,\n",
       "       -0.08312583,  0.11803909, -0.18890275, -0.01948112,  0.03295153,\n",
       "       -0.21192323,  0.00307842,  0.1504745 , -0.0878951 , -0.02541072,\n",
       "       -0.14739044, -0.2808433 ,  0.04326546,  0.00302836,  0.17381412,\n",
       "       -0.23516864, -0.14917677,  0.02791299, -0.2044842 ,  0.00343351])"
      ]
     },
     "execution_count": 73,
     "metadata": {},
     "output_type": "execute_result"
    }
   ],
   "source": [
    "numpy_normal = np.array(list_normal)\n",
    "numpy_normal\n"
   ]
  },
  {
   "cell_type": "code",
   "execution_count": 74,
   "metadata": {},
   "outputs": [
    {
     "data": {
      "text/plain": [
       "-0.017046218408742733"
      ]
     },
     "execution_count": 74,
     "metadata": {},
     "output_type": "execute_result"
    }
   ],
   "source": [
    "m = numpy_normal.mean()\n",
    "m"
   ]
  },
  {
   "cell_type": "code",
   "execution_count": 75,
   "metadata": {},
   "outputs": [
    {
     "data": {
      "text/plain": [
       "0.1395879364729154"
      ]
     },
     "execution_count": 75,
     "metadata": {},
     "output_type": "execute_result"
    }
   ],
   "source": [
    "standard_devi = numpy_normal.std()\n",
    "standard_devi"
   ]
  },
  {
   "cell_type": "code",
   "execution_count": 76,
   "metadata": {},
   "outputs": [
    {
     "data": {
      "text/plain": [
       "0.9870357645183548"
      ]
     },
     "execution_count": 76,
     "metadata": {},
     "output_type": "execute_result"
    }
   ],
   "source": [
    "standard_devi*np.sqrt(50)"
   ]
  },
  {
   "cell_type": "code",
   "execution_count": 77,
   "metadata": {},
   "outputs": [],
   "source": [
    "x1 = (1/np.sqrt(2*np.pi))*np.exp(-(1-1)**2/2)\n",
    "x2 = (1/np.sqrt(2*np.pi))*np.exp(-(0.5-1)**2/2)\n",
    "x3 = (1/np.sqrt(2*np.pi))*np.exp(-(1.5-1)**2/2)\n",
    "y1 = (1/np.sqrt(2*np.pi))*np.exp(-(1-2.5)**2/2)\n",
    "y2 = (1/np.sqrt(2*np.pi))*np.exp(-(0.5-2.5)**2/2)\n",
    "y3 = (1/np.sqrt(2*np.pi))*np.exp(-(1.5-2.5)**2/2)\n"
   ]
  },
  {
   "cell_type": "code",
   "execution_count": 78,
   "metadata": {},
   "outputs": [
    {
     "data": {
      "text/plain": [
       "0.04944889338563757"
      ]
     },
     "execution_count": 78,
     "metadata": {},
     "output_type": "execute_result"
    }
   ],
   "source": [
    "x = x1*x2*x3\n",
    "x"
   ]
  },
  {
   "cell_type": "code",
   "execution_count": 79,
   "metadata": {},
   "outputs": [
    {
     "data": {
      "text/plain": [
       "0.0016920480842507065"
      ]
     },
     "execution_count": 79,
     "metadata": {},
     "output_type": "execute_result"
    }
   ],
   "source": [
    "y = y1*y2*y3\n",
    "y"
   ]
  },
  {
   "cell_type": "code",
   "execution_count": 83,
   "metadata": {},
   "outputs": [
    {
     "name": "stdout",
     "output_type": "stream",
     "text": [
      "3\n",
      "4\n",
      "X = 7\n"
     ]
    }
   ],
   "source": [
    "A = int(input())\n",
    "B = int(input())\n",
    "\n",
    "X = A + B\n",
    "\n",
    "print('X =',X)"
   ]
  },
  {
   "cell_type": "code",
   "execution_count": 114,
   "metadata": {},
   "outputs": [
    {
     "name": "stdout",
     "output_type": "stream",
     "text": [
      "65.876\n",
      "A = 13635.0485\n",
      "\n"
     ]
    }
   ],
   "source": [
    "\n",
    "R = float(format(float(input()), '.2f'))\n",
    "A = 3.14159 * R**2\n",
    "print('A = {0:.4f}'.format(A))\n"
   ]
  },
  {
   "cell_type": "code",
   "execution_count": null,
   "metadata": {},
   "outputs": [],
   "source": []
  }
 ],
 "metadata": {
  "kernelspec": {
   "display_name": "Python 3",
   "language": "python",
   "name": "python3"
  },
  "language_info": {
   "codemirror_mode": {
    "name": "ipython",
    "version": 3
   },
   "file_extension": ".py",
   "mimetype": "text/x-python",
   "name": "python",
   "nbconvert_exporter": "python",
   "pygments_lexer": "ipython3",
   "version": "3.7.4"
  }
 },
 "nbformat": 4,
 "nbformat_minor": 2
}
