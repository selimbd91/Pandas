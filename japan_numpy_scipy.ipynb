{
 "cells": [
  {
   "cell_type": "code",
   "execution_count": 7,
   "metadata": {},
   "outputs": [
    {
     "data": {
      "text/plain": [
       "dtype('int32')"
      ]
     },
     "execution_count": 7,
     "metadata": {},
     "output_type": "execute_result"
    }
   ],
   "source": [
    "import numpy as np\n",
    "\n",
    "a = np.array([[1,2,3,8],[2,3,4,2],[4,5,6,7]])\n",
    "a.dtype"
   ]
  },
  {
   "cell_type": "code",
   "execution_count": 8,
   "metadata": {},
   "outputs": [
    {
     "data": {
      "text/plain": [
       "(16, 4)"
      ]
     },
     "execution_count": 8,
     "metadata": {},
     "output_type": "execute_result"
    }
   ],
   "source": [
    "a.strides"
   ]
  },
  {
   "cell_type": "code",
   "execution_count": 17,
   "metadata": {},
   "outputs": [
    {
     "data": {
      "text/plain": [
       "array([1, 0, 0, 0, 2, 0, 0, 0, 3, 0, 0, 0, 8, 0, 0, 0, 2, 0, 0, 0, 3, 0,\n",
       "       0, 0, 4, 0, 0, 0, 2, 0, 0, 0, 4, 0, 0, 0, 5, 0, 0, 0, 6, 0, 0, 0,\n",
       "       7, 0, 0, 0], dtype=uint8)"
      ]
     },
     "execution_count": 17,
     "metadata": {},
     "output_type": "execute_result"
    }
   ],
   "source": [
    "a.ravel().view()"
   ]
  },
  {
   "cell_type": "code",
   "execution_count": 22,
   "metadata": {},
   "outputs": [
    {
     "data": {
      "text/plain": [
       "array([1, 0, 0, 0, 2, 0, 0, 0, 3, 0, 0, 0, 8, 0, 0, 0, 2, 0, 0, 0, 3, 0,\n",
       "       0, 0, 4, 0, 0, 0, 2, 0, 0, 0, 4, 0, 0, 0, 5, 0, 0, 0, 6, 0, 0, 0,\n",
       "       7, 0, 0, 0], dtype=uint8)"
      ]
     },
     "execution_count": 22,
     "metadata": {},
     "output_type": "execute_result"
    }
   ],
   "source": [
    "b = a.ravel().view(dtype= np.uint8)\n",
    "b"
   ]
  },
  {
   "cell_type": "code",
   "execution_count": 23,
   "metadata": {},
   "outputs": [
    {
     "data": {
      "text/plain": [
       "(1,)"
      ]
     },
     "execution_count": 23,
     "metadata": {},
     "output_type": "execute_result"
    }
   ],
   "source": [
    "b.strides"
   ]
  },
  {
   "cell_type": "code",
   "execution_count": 74,
   "metadata": {},
   "outputs": [
    {
     "data": {
      "text/plain": [
       "array([[10, 20, 52, 92, 44],\n",
       "       [92, 99,  5, 12, 98],\n",
       "       [71, 26, 48, 50, 85],\n",
       "       [44, 61, 22, 37,  9],\n",
       "       [52, 25, 72, 39, 20]])"
      ]
     },
     "execution_count": 74,
     "metadata": {},
     "output_type": "execute_result"
    }
   ],
   "source": [
    "y = np.array(np.random.randint(low= 0, high= 100, size= (5, 5)))\n",
    "y"
   ]
  },
  {
   "cell_type": "code",
   "execution_count": 34,
   "metadata": {},
   "outputs": [
    {
     "data": {
      "text/plain": [
       "array([26, 38, 30, 25])"
      ]
     },
     "execution_count": 34,
     "metadata": {},
     "output_type": "execute_result"
    }
   ],
   "source": [
    "y[[0,1,2,3],[1,2,3,4]]"
   ]
  },
  {
   "cell_type": "code",
   "execution_count": 41,
   "metadata": {},
   "outputs": [
    {
     "data": {
      "text/plain": [
       "array([['28', '26', '36', '48', 'selim'],\n",
       "       ['selim', '44', '38', '34', '36'],\n",
       "       ['selim', '10', '36', '30', 'selim'],\n",
       "       ['selim', 'selim', '30', '28', 'selim'],\n",
       "       ['22', '18', '30', '34', '32']], dtype='<U11')"
      ]
     },
     "execution_count": 41,
     "metadata": {},
     "output_type": "execute_result"
    }
   ],
   "source": [
    "xx = np.where(y % 2 == 0, y, \"selim\")\n",
    "xx"
   ]
  },
  {
   "cell_type": "code",
   "execution_count": 42,
   "metadata": {},
   "outputs": [
    {
     "data": {
      "text/plain": [
       "  C_CONTIGUOUS : True\n",
       "  F_CONTIGUOUS : False\n",
       "  OWNDATA : True\n",
       "  WRITEABLE : True\n",
       "  ALIGNED : True\n",
       "  WRITEBACKIFCOPY : False\n",
       "  UPDATEIFCOPY : False"
      ]
     },
     "execution_count": 42,
     "metadata": {},
     "output_type": "execute_result"
    }
   ],
   "source": [
    "y.flags"
   ]
  },
  {
   "cell_type": "code",
   "execution_count": 45,
   "metadata": {},
   "outputs": [
    {
     "data": {
      "text/plain": [
       "array([[9, 6, 4, 0, 7],\n",
       "       [2, 7, 1, 5, 3],\n",
       "       [6, 2, 8, 7, 2],\n",
       "       [7, 9, 7, 6, 2],\n",
       "       [6, 4, 0, 2, 8]])"
      ]
     },
     "execution_count": 45,
     "metadata": {},
     "output_type": "execute_result"
    }
   ],
   "source": [
    "y"
   ]
  },
  {
   "cell_type": "code",
   "execution_count": 55,
   "metadata": {},
   "outputs": [
    {
     "data": {
      "text/plain": [
       "3"
      ]
     },
     "execution_count": 55,
     "metadata": {},
     "output_type": "execute_result"
    }
   ],
   "source": [
    "mask = y.argmin()\n",
    "mask"
   ]
  },
  {
   "cell_type": "code",
   "execution_count": 57,
   "metadata": {},
   "outputs": [],
   "source": [
    "p = y.ravel()"
   ]
  },
  {
   "cell_type": "code",
   "execution_count": 58,
   "metadata": {},
   "outputs": [
    {
     "data": {
      "text/plain": [
       "0"
      ]
     },
     "execution_count": 58,
     "metadata": {},
     "output_type": "execute_result"
    }
   ],
   "source": [
    "p[mask]"
   ]
  },
  {
   "cell_type": "code",
   "execution_count": 53,
   "metadata": {},
   "outputs": [
    {
     "data": {
      "text/plain": [
       "(5,)"
      ]
     },
     "execution_count": 53,
     "metadata": {},
     "output_type": "execute_result"
    }
   ],
   "source": [
    "r = np.sum(y,axis=0)\n",
    "r.shape"
   ]
  },
  {
   "cell_type": "code",
   "execution_count": 50,
   "metadata": {},
   "outputs": [],
   "source": [
    "rr = np.sum(y, axis= 1)"
   ]
  },
  {
   "cell_type": "code",
   "execution_count": 52,
   "metadata": {},
   "outputs": [
    {
     "data": {
      "text/plain": [
       "(5,)"
      ]
     },
     "execution_count": 52,
     "metadata": {},
     "output_type": "execute_result"
    }
   ],
   "source": [
    "rr.shape"
   ]
  },
  {
   "cell_type": "code",
   "execution_count": 75,
   "metadata": {},
   "outputs": [
    {
     "data": {
      "text/plain": [
       "array([[80, 89, 88, 36],\n",
       "       [90, 58,  1,  4],\n",
       "       [88, 97, 37, 24],\n",
       "       [80, 20, 83, 35],\n",
       "       [55, 96, 69, 72]])"
      ]
     },
     "execution_count": 75,
     "metadata": {},
     "output_type": "execute_result"
    }
   ],
   "source": [
    "ran = np.random.randint(0,100,size=(5,4))\n",
    "ran"
   ]
  },
  {
   "cell_type": "code",
   "execution_count": 81,
   "metadata": {},
   "outputs": [
    {
     "data": {
      "text/plain": [
       "array([4, 3, 1, 1], dtype=int64)"
      ]
     },
     "execution_count": 81,
     "metadata": {},
     "output_type": "execute_result"
    }
   ],
   "source": [
    "pp"
   ]
  },
  {
   "cell_type": "code",
   "execution_count": 76,
   "metadata": {},
   "outputs": [
    {
     "data": {
      "text/plain": [
       "array([4, 3, 1, 1], dtype=int64)"
      ]
     },
     "execution_count": 76,
     "metadata": {},
     "output_type": "execute_result"
    }
   ],
   "source": [
    "pp = ran.argmin(axis= 0)\n",
    "pp"
   ]
  },
  {
   "cell_type": "code",
   "execution_count": 78,
   "metadata": {},
   "outputs": [
    {
     "data": {
      "text/plain": [
       "array([2, 3, 1, 0], dtype=int64)"
      ]
     },
     "execution_count": 78,
     "metadata": {},
     "output_type": "execute_result"
    }
   ],
   "source": [
    "pp.argsort()"
   ]
  },
  {
   "cell_type": "code",
   "execution_count": 80,
   "metadata": {},
   "outputs": [
    {
     "data": {
      "text/plain": [
       "array([1, 1, 3, 4], dtype=int64)"
      ]
     },
     "execution_count": 80,
     "metadata": {},
     "output_type": "execute_result"
    }
   ],
   "source": [
    "pp[[2, 3, 1, 0]]"
   ]
  },
  {
   "cell_type": "code",
   "execution_count": 70,
   "metadata": {},
   "outputs": [
    {
     "data": {
      "text/plain": [
       "array([[9, 6, 4, 0, 7],\n",
       "       [2, 7, 1, 5, 3],\n",
       "       [6, 2, 8, 7, 2],\n",
       "       [7, 9, 7, 6, 2],\n",
       "       [6, 4, 0, 2, 8]])"
      ]
     },
     "execution_count": 70,
     "metadata": {},
     "output_type": "execute_result"
    }
   ],
   "source": [
    "y"
   ]
  },
  {
   "cell_type": "code",
   "execution_count": 71,
   "metadata": {},
   "outputs": [
    {
     "data": {
      "text/plain": [
       "array([1.55555556, 1.55555556, 1.55555556, 6.88888889])"
      ]
     },
     "execution_count": 71,
     "metadata": {},
     "output_type": "execute_result"
    }
   ],
   "source": [
    "j = np.var(a, axis= 0)\n",
    "j"
   ]
  },
  {
   "cell_type": "code",
   "execution_count": 73,
   "metadata": {},
   "outputs": [
    {
     "data": {
      "text/plain": [
       "array([1.55555556, 1.55555556, 1.55555556, 6.88888889])"
      ]
     },
     "execution_count": 73,
     "metadata": {},
     "output_type": "execute_result"
    }
   ],
   "source": [
    "j"
   ]
  },
  {
   "cell_type": "code",
   "execution_count": 72,
   "metadata": {},
   "outputs": [
    {
     "data": {
      "text/plain": [
       "0"
      ]
     },
     "execution_count": 72,
     "metadata": {},
     "output_type": "execute_result"
    }
   ],
   "source": [
    "jjj = j.argmin()\n",
    "jjj"
   ]
  },
  {
   "cell_type": "code",
   "execution_count": 89,
   "metadata": {},
   "outputs": [
    {
     "data": {
      "text/plain": [
       "array([[0.36172796, 0.17579225, 0.95941174, 0.08085891, 0.32227421,\n",
       "        0.37886158, 0.34094386, 0.81890219, 0.87996864, 0.74196274],\n",
       "       [0.07577395, 0.50437934, 0.82747566, 0.24083929, 0.91147271,\n",
       "        0.95597157, 0.57169483, 0.99421557, 0.13128902, 0.17161154],\n",
       "       [0.63812817, 0.16564675, 0.52068005, 0.81060605, 0.2883086 ,\n",
       "        0.22938611, 0.00176593, 0.62343445, 0.33106659, 0.94778788],\n",
       "       [0.49937287, 0.46124638, 0.78188332, 0.69140692, 0.85963367,\n",
       "        0.65878956, 0.80103441, 0.71571549, 0.73932861, 0.75242244],\n",
       "       [0.25724347, 0.65498065, 0.29594857, 0.89420023, 0.61209126,\n",
       "        0.17048205, 0.53711035, 0.90681039, 0.09859555, 0.44604269]])"
      ]
     },
     "execution_count": 89,
     "metadata": {},
     "output_type": "execute_result"
    }
   ],
   "source": [
    "aa = np.random.random(size= 50).reshape(5,10)\n",
    "aa"
   ]
  },
  {
   "cell_type": "code",
   "execution_count": 90,
   "metadata": {},
   "outputs": [
    {
     "data": {
      "text/plain": [
       "array([0.08867803, 0.12099861, 0.08187044, 0.01458108, 0.07304358])"
      ]
     },
     "execution_count": 90,
     "metadata": {},
     "output_type": "execute_result"
    }
   ],
   "source": [
    "variance = np.var(aa, axis= 1)\n",
    "variance"
   ]
  },
  {
   "cell_type": "code",
   "execution_count": 92,
   "metadata": {},
   "outputs": [
    {
     "data": {
      "text/plain": [
       "array([3, 4, 2, 0, 1], dtype=int64)"
      ]
     },
     "execution_count": 92,
     "metadata": {},
     "output_type": "execute_result"
    }
   ],
   "source": [
    "sr = np.argsort(variance)\n",
    "sr"
   ]
  },
  {
   "cell_type": "code",
   "execution_count": 93,
   "metadata": {},
   "outputs": [
    {
     "data": {
      "text/plain": [
       "array([[0.49937287, 0.46124638, 0.78188332, 0.69140692, 0.85963367,\n",
       "        0.65878956, 0.80103441, 0.71571549, 0.73932861, 0.75242244],\n",
       "       [0.25724347, 0.65498065, 0.29594857, 0.89420023, 0.61209126,\n",
       "        0.17048205, 0.53711035, 0.90681039, 0.09859555, 0.44604269],\n",
       "       [0.63812817, 0.16564675, 0.52068005, 0.81060605, 0.2883086 ,\n",
       "        0.22938611, 0.00176593, 0.62343445, 0.33106659, 0.94778788],\n",
       "       [0.36172796, 0.17579225, 0.95941174, 0.08085891, 0.32227421,\n",
       "        0.37886158, 0.34094386, 0.81890219, 0.87996864, 0.74196274],\n",
       "       [0.07577395, 0.50437934, 0.82747566, 0.24083929, 0.91147271,\n",
       "        0.95597157, 0.57169483, 0.99421557, 0.13128902, 0.17161154]])"
      ]
     },
     "execution_count": 93,
     "metadata": {},
     "output_type": "execute_result"
    }
   ],
   "source": [
    "aa[sr]"
   ]
  },
  {
   "cell_type": "code",
   "execution_count": 94,
   "metadata": {},
   "outputs": [
    {
     "data": {
      "text/plain": [
       "array([[0.36172796, 0.17579225, 0.95941174, 0.08085891, 0.32227421,\n",
       "        0.37886158, 0.34094386, 0.81890219, 0.87996864, 0.74196274],\n",
       "       [0.07577395, 0.50437934, 0.82747566, 0.24083929, 0.91147271,\n",
       "        0.95597157, 0.57169483, 0.99421557, 0.13128902, 0.17161154],\n",
       "       [0.63812817, 0.16564675, 0.52068005, 0.81060605, 0.2883086 ,\n",
       "        0.22938611, 0.00176593, 0.62343445, 0.33106659, 0.94778788],\n",
       "       [0.49937287, 0.46124638, 0.78188332, 0.69140692, 0.85963367,\n",
       "        0.65878956, 0.80103441, 0.71571549, 0.73932861, 0.75242244],\n",
       "       [0.25724347, 0.65498065, 0.29594857, 0.89420023, 0.61209126,\n",
       "        0.17048205, 0.53711035, 0.90681039, 0.09859555, 0.44604269]])"
      ]
     },
     "execution_count": 94,
     "metadata": {},
     "output_type": "execute_result"
    }
   ],
   "source": [
    "aa"
   ]
  },
  {
   "cell_type": "code",
   "execution_count": 96,
   "metadata": {},
   "outputs": [
    {
     "data": {
      "text/plain": [
       "array([[10, 20, 52, 92, 44],\n",
       "       [92, 99,  5, 12, 98],\n",
       "       [71, 26, 48, 50, 85],\n",
       "       [44, 61, 22, 37,  9],\n",
       "       [52, 25, 72, 39, 20]])"
      ]
     },
     "execution_count": 96,
     "metadata": {},
     "output_type": "execute_result"
    }
   ],
   "source": [
    "y"
   ]
  },
  {
   "cell_type": "code",
   "execution_count": 97,
   "metadata": {},
   "outputs": [
    {
     "data": {
      "text/plain": [
       "array([[71, 26, 48, 50, 85],\n",
       "       [52, 25, 72, 39, 20]])"
      ]
     },
     "execution_count": 97,
     "metadata": {},
     "output_type": "execute_result"
    }
   ],
   "source": [
    "y[[2,4]]"
   ]
  },
  {
   "cell_type": "code",
   "execution_count": 98,
   "metadata": {},
   "outputs": [
    {
     "data": {
      "text/plain": [
       "array([[10, 20, 52, 92, 44],\n",
       "       [92, 99,  5, 12, 98],\n",
       "       [71, 26, 48, 50, 85],\n",
       "       [44, 61, 22, 37,  9],\n",
       "       [52, 25, 72, 39, 20]])"
      ]
     },
     "execution_count": 98,
     "metadata": {},
     "output_type": "execute_result"
    }
   ],
   "source": [
    "y"
   ]
  },
  {
   "cell_type": "code",
   "execution_count": 99,
   "metadata": {},
   "outputs": [
    {
     "data": {
      "text/plain": [
       "array([[71, 26, 48, 50, 85],\n",
       "       [44, 61, 22, 37,  9],\n",
       "       [52, 25, 72, 39, 20]])"
      ]
     },
     "execution_count": 99,
     "metadata": {},
     "output_type": "execute_result"
    }
   ],
   "source": [
    "y[-3:]"
   ]
  }
 ],
 "metadata": {
  "kernelspec": {
   "display_name": "Python 3",
   "language": "python",
   "name": "python3"
  },
  "language_info": {
   "codemirror_mode": {
    "name": "ipython",
    "version": 3
   },
   "file_extension": ".py",
   "mimetype": "text/x-python",
   "name": "python",
   "nbconvert_exporter": "python",
   "pygments_lexer": "ipython3",
   "version": "3.7.4"
  }
 },
 "nbformat": 4,
 "nbformat_minor": 2
}
