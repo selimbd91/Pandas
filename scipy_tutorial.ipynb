{
 "cells": [
  {
   "cell_type": "code",
   "execution_count": 1,
   "metadata": {},
   "outputs": [
    {
     "data": {
      "image/png": "[encoded data removed]",
      "text/latex": [
       "$\\displaystyle 1.41$"
      ],
      "text/plain": [
       "1.41"
      ]
     },
     "execution_count": 1,
     "metadata": {},
     "output_type": "execute_result"
    }
   ],
   "source": [
    "import sympy as sp\n",
    "sp.init_printing()\n",
    "sqrt = sp.sqrt(2)\n",
    "sqrt.evalf(3)"
   ]
  },
  {
   "cell_type": "code",
   "execution_count": 2,
   "metadata": {},
   "outputs": [
    {
     "data": {
      "image/png": "[encoded data removed]",
      "text/latex": [
       "$\\displaystyle 0$"
      ],
      "text/plain": [
       "0"
      ]
     },
     "execution_count": 2,
     "metadata": {},
     "output_type": "execute_result"
    }
   ],
   "source": [
    "sp.cos(sp.pi /2).evalf()"
   ]
  },
  {
   "cell_type": "code",
   "execution_count": 3,
   "metadata": {},
   "outputs": [
    {
     "data": {
      "text/plain": [
       "'3 f{\\\\left(x \\\\right)} + 2 \\\\frac{d}{d x} f{\\\\left(x \\\\right)} + \\\\frac{d^{2}}{d x^{2}} f{\\\\left(x \\\\right)} = 0'"
      ]
     },
     "execution_count": 3,
     "metadata": {},
     "output_type": "execute_result"
    }
   ],
   "source": [
    "x, y, z = sp.symbols(\"x:z\")\n",
    "f = sp.Function(\"f\")(x)\n",
    "exp = sp.Eq(f.diff(x, x) + 2*f.diff(x) + 3* f)\n",
    "sp.latex(exp)"
   ]
  },
  {
   "cell_type": "code",
   "execution_count": 4,
   "metadata": {},
   "outputs": [
    {
     "data": {
      "image/png": "[encoded data removed]",
      "text/latex": [
       "$\\displaystyle e^{- \\frac{\\left(- \\mu + x\\right)^{2}}{2 \\sigma^{2}}}$"
      ],
      "text/plain": [
       "          2 \n",
       " -(-μ + x)  \n",
       " ───────────\n",
       "        2   \n",
       "     2⋅σ    \n",
       "ℯ           "
      ]
     },
     "metadata": {},
     "output_type": "display_data"
    },
    {
     "data": {
      "image/png": "[encoded data removed]",
      "text/latex": [
       "$\\displaystyle \\frac{\\partial}{\\partial x} e^{- \\frac{\\left(- \\mu + x\\right)^{2}}{2 \\sigma^{2}}}$"
      ],
      "text/plain": [
       "  ⎛          2 ⎞\n",
       "  ⎜ -(-μ + x)  ⎟\n",
       "  ⎜ ───────────⎟\n",
       "  ⎜        2   ⎟\n",
       "∂ ⎜     2⋅σ    ⎟\n",
       "──⎝ℯ           ⎠\n",
       "∂x              "
      ]
     },
     "metadata": {},
     "output_type": "display_data"
    },
    {
     "data": {
      "image/png": "[encoded data removed]",
      "text/latex": [
       "$\\displaystyle - \\frac{\\left(- 2 \\mu + 2 x\\right) e^{- \\frac{\\left(- \\mu + x\\right)^{2}}{2 \\sigma^{2}}}}{2 \\sigma^{2}}$"
      ],
      "text/plain": [
       "                        2  \n",
       "               -(-μ + x)   \n",
       "               ─────────── \n",
       "                      2    \n",
       "                   2⋅σ     \n",
       "-(-2⋅μ + 2⋅x)⋅ℯ            \n",
       "───────────────────────────\n",
       "               2           \n",
       "            2⋅σ            "
      ]
     },
     "metadata": {},
     "output_type": "display_data"
    },
    {
     "data": {
      "image/png": "[encoded data removed]",
      "text/latex": [
       "$\\displaystyle \\frac{\\left(-1 + \\frac{\\left(\\mu - x\\right)^{2}}{\\sigma^{2}}\\right) e^{- \\frac{\\left(\\mu - x\\right)^{2}}{2 \\sigma^{2}}}}{\\sigma^{2}}$"
      ],
      "text/plain": [
       "                         2 \n",
       "                 -(μ - x)  \n",
       "                 ──────────\n",
       "⎛            2⎞        2   \n",
       "⎜     (μ - x) ⎟     2⋅σ    \n",
       "⎜-1 + ────────⎟⋅ℯ          \n",
       "⎜         2   ⎟            \n",
       "⎝        σ    ⎠            \n",
       "───────────────────────────\n",
       "              2            \n",
       "             σ             "
      ]
     },
     "execution_count": 4,
     "metadata": {},
     "output_type": "execute_result"
    }
   ],
   "source": [
    "mu, sigma = sp.symbols(\"mu, sigma\")\n",
    "\n",
    "ex1 = sp.exp((-(x - mu)**2) / (2*sigma**2))\n",
    "display(ex1)\n",
    "dif = sp.Derivative(ex1, x)\n",
    "display(dif)\n",
    "display(dif.doit())\n",
    "dif.diff(x)"
   ]
  },
  {
   "cell_type": "code",
   "execution_count": null,
   "metadata": {},
   "outputs": [],
   "source": []
  },
  {
   "cell_type": "code",
   "execution_count": 5,
   "metadata": {},
   "outputs": [
    {
     "data": {
      "image/png": "[encoded data removed]",
      "text/latex": [
       "$\\displaystyle \\frac{\\partial}{\\partial x} \\left(x^{2} + 2 y\\right)$"
      ],
      "text/plain": [
       "∂ ⎛ 2      ⎞\n",
       "──⎝x  + 2⋅y⎠\n",
       "∂x          "
      ]
     },
     "metadata": {},
     "output_type": "display_data"
    },
    {
     "data": {
      "image/png": "[encoded data removed]",
      "text/latex": [
       "$\\displaystyle 2 x$"
      ],
      "text/plain": [
       "2⋅x"
      ]
     },
     "metadata": {},
     "output_type": "display_data"
    },
    {
     "data": {
      "image/png": "[encoded data removed]",
      "text/latex": [
       "$\\displaystyle 2 x$"
      ],
      "text/plain": [
       "2⋅x"
      ]
     },
     "execution_count": 5,
     "metadata": {},
     "output_type": "execute_result"
    }
   ],
   "source": [
    "ex2 = x**2 + 2*y\n",
    "k = sp.Derivative(ex2, x)\n",
    "display(k)\n",
    "display(k.doit())\n",
    "ex2.diff(x)"
   ]
  },
  {
   "cell_type": "code",
   "execution_count": 6,
   "metadata": {},
   "outputs": [
    {
     "data": {
      "image/png": "[encoded data removed]",
      "text/latex": [
       "$\\displaystyle x^{2} + y = z^{2}$"
      ],
      "text/plain": [
       " 2        2\n",
       "x  + y = z "
      ]
     },
     "metadata": {},
     "output_type": "display_data"
    },
    {
     "data": {
      "image/png": "[encoded data removed]",
      "text/latex": [
       "$\\displaystyle x^{2} + y$"
      ],
      "text/plain": [
       " 2    \n",
       "x  + y"
      ]
     },
     "metadata": {},
     "output_type": "display_data"
    },
    {
     "data": {
      "image/png": "[encoded data removed]",
      "text/latex": [
       "$\\displaystyle z^{2}$"
      ],
      "text/plain": [
       " 2\n",
       "z "
      ]
     },
     "metadata": {},
     "output_type": "display_data"
    }
   ],
   "source": [
    "ok = sp.Eq(x**2 + y, z**2)\n",
    "display(ok)\n",
    "display(ok.lhs)\n",
    "display(ok.rhs)"
   ]
  },
  {
   "cell_type": "code",
   "execution_count": 7,
   "metadata": {},
   "outputs": [
    {
     "data": {
      "image/png": "[encoded data removed]",
      "text/latex": [
       "$\\displaystyle \\frac{\\pi}{3}$"
      ],
      "text/plain": [
       "π\n",
       "─\n",
       "3"
      ]
     },
     "execution_count": 7,
     "metadata": {},
     "output_type": "execute_result"
    }
   ],
   "source": [
    "sp.acos(sp.S(1)/2)"
   ]
  },
  {
   "cell_type": "code",
   "execution_count": 8,
   "metadata": {},
   "outputs": [
    {
     "data": {
      "image/png": "[encoded data removed]",
      "text/latex": [
       "$\\displaystyle \\int\\limits_{0}^{2} x^{2}\\, dx$"
      ],
      "text/plain": [
       "2      \n",
       "⌠      \n",
       "⎮  2   \n",
       "⎮ x  dx\n",
       "⌡      \n",
       "0      "
      ]
     },
     "metadata": {},
     "output_type": "display_data"
    },
    {
     "data": {
      "image/png": "[encoded data removed]",
      "text/latex": [
       "$\\displaystyle \\frac{8}{3}$"
      ],
      "text/plain": [
       "8/3"
      ]
     },
     "metadata": {},
     "output_type": "display_data"
    },
    {
     "data": {
      "image/png": "[encoded data removed]",
      "text/latex": [
       "$\\displaystyle \\frac{8}{3}$"
      ],
      "text/plain": [
       "8/3"
      ]
     },
     "execution_count": 8,
     "metadata": {},
     "output_type": "execute_result"
    }
   ],
   "source": [
    "jj = x**2\n",
    "kk = sp.Integral(jj, (x, 0, 2))\n",
    "display(kk)\n",
    "display(kk.doit())\n",
    "        \n",
    "\n",
    "jj.integrate((x, 0, 2))\n"
   ]
  },
  {
   "cell_type": "code",
   "execution_count": 9,
   "metadata": {},
   "outputs": [
    {
     "data": {
      "image/png": "[encoded data removed]",
      "text/latex": [
       "$\\displaystyle \\int\\limits_{y}^{z} x^{n}\\, dx$"
      ],
      "text/plain": [
       "z      \n",
       "⌠      \n",
       "⎮  n   \n",
       "⎮ x  dx\n",
       "⌡      \n",
       "y      "
      ]
     },
     "metadata": {},
     "output_type": "display_data"
    },
    {
     "data": {
      "image/png": "[encoded data removed]",
      "text/latex": [
       "$\\displaystyle \\int\\limits_{0}^{3} x^{2}\\, dx$"
      ],
      "text/plain": [
       "3      \n",
       "⌠      \n",
       "⎮  2   \n",
       "⎮ x  dx\n",
       "⌡      \n",
       "0      "
      ]
     },
     "metadata": {},
     "output_type": "display_data"
    },
    {
     "data": {
      "image/png": "[encoded data removed]",
      "text/latex": [
       "$\\displaystyle 9.0$"
      ],
      "text/plain": [
       "9.00000000000000"
      ]
     },
     "metadata": {},
     "output_type": "display_data"
    }
   ],
   "source": [
    "n = sp.symbols(\"n\", positive= True)\n",
    "exx = sp.Integral(x**n, (x, y, z))\n",
    "display(exx)\n",
    "val = exx.subs({n: 2, y: 0, z: 3})\n",
    "display(val)\n",
    "display(val.evalf())"
   ]
  },
  {
   "cell_type": "code",
   "execution_count": 10,
   "metadata": {},
   "outputs": [
    {
     "data": {
      "text/plain": [
       "<Figure size 640x480 with 1 Axes>"
      ]
     },
     "metadata": {},
     "output_type": "display_data"
    }
   ],
   "source": [
    "import matplotlib.pyplot as plt\n",
    "import numpy as np\n",
    "\n",
    "f = sp.lambdify(x, x**2)\n",
    "#arr = np.array([1, 2, 3, 4, 5])\n",
    "arr = np.linspace(-10, 10, 500)\n",
    "f(arr)\n",
    "plt.plot(arr, f(arr))\n",
    "plt.show()"
   ]
  },
  {
   "cell_type": "code",
   "execution_count": 11,
   "metadata": {},
   "outputs": [
    {
     "data": {
      "image/png": "[encoded data removed]",
      "text/latex": [
       "$\\displaystyle \\int\\limits_{0}^{2 \\pi} \\sin^{2}{\\left(x \\right)}\\, dx$"
      ],
      "text/plain": [
       "2⋅π           \n",
       " ⌠            \n",
       " ⎮     2      \n",
       " ⎮  sin (x) dx\n",
       " ⌡            \n",
       " 0            "
      ]
     },
     "metadata": {},
     "output_type": "display_data"
    },
    {
     "data": {
      "image/png": "[encoded data removed]",
      "text/latex": [
       "$\\displaystyle \\pi$"
      ],
      "text/plain": [
       "π"
      ]
     },
     "execution_count": 11,
     "metadata": {},
     "output_type": "execute_result"
    }
   ],
   "source": [
    "f = sp.sin(x)**2\n",
    "k = sp.Integral(f, (x, 0, 2*sp.pi))\n",
    "display(k)\n",
    "k.doit()"
   ]
  },
  {
   "cell_type": "code",
   "execution_count": 12,
   "metadata": {},
   "outputs": [
    {
     "data": {
      "image/png": "[encoded data removed]",
      "text/plain": [
       "<Figure size 432x288 with 1 Axes>"
      ]
     },
     "metadata": {
      "needs_background": "light"
     },
     "output_type": "display_data"
    }
   ],
   "source": [
    "import matplotlib.pyplot as plot\n",
    "import numpy as np\n",
    "\n",
    "rad = 1\n",
    "t = np.linspace(0, 2* np.pi, 65)\n",
    "x =rad * np.cos(t)\n",
    "y = rad * np.sin(t)\n",
    "plt.axis(\"equal\")\n",
    "plt.grid()\n",
    "plt.plot(x, y)\n",
    "plt.show()"
   ]
  },
  {
   "cell_type": "code",
   "execution_count": 50,
   "metadata": {},
   "outputs": [
    {
     "data": {
      "image/png": "[encoded data removed]",
      "text/latex": [
       "$\\displaystyle 3 x^{2} + \\log{\\left(x^{2} + y^{2} + 1 \\right)}$"
      ],
      "text/plain": [
       "   2      ⎛ 2    2    ⎞\n",
       "3⋅x  + log⎝x  + y  + 1⎠"
      ]
     },
     "metadata": {},
     "output_type": "display_data"
    },
    {
     "data": {
      "image/png": "[encoded data removed]",
      "text/latex": [
       "$\\displaystyle f{\\left(x,y \\right)}$"
      ],
      "text/plain": [
       "f(x, y)"
      ]
     },
     "metadata": {},
     "output_type": "display_data"
    }
   ],
   "source": [
    "import sympy as sp\n",
    "import numpy as np\n",
    "x, y, z = sp.symbols(\"x:z\")\n",
    "eexx = 3*x**2 + sp.log(x**2 + y**2 +1)\n",
    "display(eexx)\n",
    "f = sp.Function(\"f\")(x, y)\n",
    "#f = eexx\n",
    "display(f)"
   ]
  },
  {
   "cell_type": "code",
   "execution_count": 55,
   "metadata": {},
   "outputs": [
    {
     "data": {
      "image/png": "[encoded data removed]",
      "text/latex": [
       "$\\displaystyle \\left( z_{0}, \\  z_{1}, \\  z_{2}\\right)$"
      ],
      "text/plain": [
       "(z₀, z₁, z₂)"
      ]
     },
     "execution_count": 55,
     "metadata": {},
     "output_type": "execute_result"
    }
   ],
   "source": [
    "z = z1, z2, z3 = sp.symbols(\"z:3\")\n",
    "tt = x* y * (z1 + z2 + z3)\n",
    "\n",
    "ff = sp.lambdify([x, y, z], tt)\n",
    "ff(1, 2, (3, 4, 5))\n",
    "z"
   ]
  }
 ],
 "metadata": {
  "kernelspec": {
   "display_name": "Python 3",
   "language": "python",
   "name": "python3"
  },
  "language_info": {
   "codemirror_mode": {
    "name": "ipython",
    "version": 3
   },
   "file_extension": ".py",
   "mimetype": "text/x-python",
   "name": "python",
   "nbconvert_exporter": "python",
   "pygments_lexer": "ipython3",
   "version": "3.7.4"
  }
 },
 "nbformat": 4,
 "nbformat_minor": 2
}
