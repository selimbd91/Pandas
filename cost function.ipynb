{
 "cells": [
  {
   "cell_type": "code",
   "execution_count": 1,
   "metadata": {},
   "outputs": [],
   "source": [
    "import numpy as np"
   ]
  },
  {
   "cell_type": "code",
   "execution_count": 44,
   "metadata": {},
   "outputs": [],
   "source": [
    "y = np.arange(1, 101)\n",
    "x = np.arange(1, 101)\n",
    "m = np.linspace(start= -5, stop= 5, num= 100)"
   ]
  },
  {
   "cell_type": "code",
   "execution_count": 50,
   "metadata": {},
   "outputs": [
    {
     "data": {
      "text/plain": [
       "-0.5656565656565657"
      ]
     },
     "execution_count": 50,
     "metadata": {},
     "output_type": "execute_result"
    }
   ],
   "source": [
    "y[0] - m[65]*x[0]"
   ]
  },
  {
   "cell_type": "code",
   "execution_count": 5,
   "metadata": {},
   "outputs": [
    {
     "name": "stdout",
     "output_type": "stream",
     "text": [
      "[0 1 2 3 4] ---> [0 1 2 3 4]\n",
      "[0 1 2 3 4] ---> [0 1 2 3 4]\n",
      "[0 1 2 3 4] ---> [0 1 2 3 4]\n",
      "[0 1 2 3 4] ---> [0 1 2 3 4]\n",
      "[0 1 2 3 4] ---> [0 1 2 3 4]\n"
     ]
    }
   ],
   "source": [
    "cost_fun = \n",
    "for i, j in zip(x, y):\n",
    "    print(x, '--->', y)\n"
   ]
  },
  {
   "cell_type": "code",
   "execution_count": 7,
   "metadata": {},
   "outputs": [
    {
     "name": "stdout",
     "output_type": "stream",
     "text": [
      "0 --- 6\n",
      "1 --- 7\n",
      "2 --- 8\n",
      "3 --- 9\n",
      "4 --- 10\n",
      "5 --- 11\n"
     ]
    }
   ],
   "source": [
    "a = [0, 1, 2, 3, 4, 5]\n",
    "b = [6, 7, 8, 9, 10, 11]\n",
    "for i, j in zip(a, b):\n",
    "    print(i, '---', j)"
   ]
  },
  {
   "cell_type": "code",
   "execution_count": 32,
   "metadata": {},
   "outputs": [],
   "source": [
    "xx= np.array([])"
   ]
  },
  {
   "cell_type": "code",
   "execution_count": 30,
   "metadata": {},
   "outputs": [
    {
     "data": {
      "text/plain": [
       "array([], dtype=float64)"
      ]
     },
     "execution_count": 30,
     "metadata": {},
     "output_type": "execute_result"
    }
   ],
   "source": [
    "np.append(xx,1)\n",
    "xx"
   ]
  },
  {
   "cell_type": "code",
   "execution_count": 19,
   "metadata": {},
   "outputs": [
    {
     "data": {
      "text/plain": [
       "array([1.])"
      ]
     },
     "execution_count": 19,
     "metadata": {},
     "output_type": "execute_result"
    }
   ],
   "source": [
    "xx"
   ]
  },
  {
   "cell_type": "code",
   "execution_count": 28,
   "metadata": {},
   "outputs": [
    {
     "data": {
      "text/plain": [
       "array([1., 2.])"
      ]
     },
     "execution_count": 28,
     "metadata": {},
     "output_type": "execute_result"
    }
   ],
   "source": [
    "xx = np.append(xx, 2)\n",
    "xx"
   ]
  },
  {
   "cell_type": "code",
   "execution_count": 21,
   "metadata": {},
   "outputs": [
    {
     "data": {
      "text/plain": [
       "array([], dtype=float64)"
      ]
     },
     "execution_count": 21,
     "metadata": {},
     "output_type": "execute_result"
    }
   ],
   "source": [
    "p"
   ]
  },
  {
   "cell_type": "code",
   "execution_count": 52,
   "metadata": {},
   "outputs": [],
   "source": [
    "cos_fun = np.array([])\n",
    "\n",
    "for i in range(100):\n",
    "    su = 0\n",
    "    for j in range(100):\n",
    "        su += (y[j] - m[i]*x[j])**2\n",
    "    cos_fun = np.append(cos_fun, su)"
   ]
  },
  {
   "cell_type": "code",
   "execution_count": 53,
   "metadata": {},
   "outputs": [
    {
     "data": {
      "text/plain": [
       "array([1.21806000e+07, 1.17739310e+07, 1.13741664e+07, 1.09813062e+07,\n",
       "       1.05953503e+07, 1.02162989e+07, 9.84415188e+06, 9.47890925e+06,\n",
       "       9.12057102e+06, 8.76913719e+06, 8.42460775e+06, 8.08698272e+06,\n",
       "       7.75626208e+06, 7.43244583e+06, 7.11553399e+06, 6.80552654e+06,\n",
       "       6.50242349e+06, 6.20622483e+06, 5.91693058e+06, 5.63454072e+06,\n",
       "       5.35905526e+06, 5.09047420e+06, 4.82879753e+06, 4.57402526e+06,\n",
       "       4.32615739e+06, 4.08519392e+06, 3.85113484e+06, 3.62398017e+06,\n",
       "       3.40372988e+06, 3.19038400e+06, 2.98394252e+06, 2.78440543e+06,\n",
       "       2.59177274e+06, 2.40604444e+06, 2.22722055e+06, 2.05530105e+06,\n",
       "       1.89028595e+06, 1.73217525e+06, 1.58096894e+06, 1.43666703e+06,\n",
       "       1.29926952e+06, 1.16877641e+06, 1.04518770e+06, 9.28503377e+05,\n",
       "       8.18723457e+05, 7.15847934e+05, 6.19876808e+05, 5.30810081e+05,\n",
       "       4.48647750e+05, 3.73389817e+05, 3.05036282e+05, 2.43587144e+05,\n",
       "       1.89042404e+05, 1.41402061e+05, 1.00666116e+05, 6.68345679e+04,\n",
       "       3.99074176e+04, 1.98846648e+04, 6.76630956e+03, 5.52351801e+02,\n",
       "       1.24279155e+03, 8.83762881e+03, 2.33368636e+04, 4.47404959e+04,\n",
       "       7.30485257e+04, 1.08260953e+05, 1.50377778e+05, 1.99399000e+05,\n",
       "       2.55324620e+05, 3.18154637e+05, 3.87889052e+05, 4.64527865e+05,\n",
       "       5.48071074e+05, 6.38518682e+05, 7.35870687e+05, 8.40127089e+05,\n",
       "       9.51287889e+05, 1.06935309e+06, 1.19432268e+06, 1.32619667e+06,\n",
       "       1.46497506e+06, 1.61065785e+06, 1.76324504e+06, 1.92273662e+06,\n",
       "       2.08913260e+06, 2.26243298e+06, 2.44263775e+06, 2.62974692e+06,\n",
       "       2.82376049e+06, 3.02467846e+06, 3.23250083e+06, 3.44722759e+06,\n",
       "       3.66885875e+06, 3.89739431e+06, 4.13283426e+06, 4.37517861e+06,\n",
       "       4.62442736e+06, 4.88058051e+06, 5.14363806e+06, 5.41360000e+06])"
      ]
     },
     "execution_count": 53,
     "metadata": {},
     "output_type": "execute_result"
    }
   ],
   "source": [
    "cos_fun"
   ]
  },
  {
   "cell_type": "code",
   "execution_count": 46,
   "metadata": {},
   "outputs": [],
   "source": [
    "import matplotlib.pyplot as plt\n",
    "%matplotlib inline"
   ]
  },
  {
   "cell_type": "code",
   "execution_count": 55,
   "metadata": {},
   "outputs": [
    {
     "data": {
      "image/png": "[encoded data removed]",
      "text/plain": [
       "<Figure size 432x288 with 1 Axes>"
      ]
     },
     "metadata": {
      "needs_background": "light"
     },
     "output_type": "display_data"
    }
   ],
   "source": [
    "plt.plot(m, cos_fun)\n",
    "plt.grid()"
   ]
  },
  {
   "cell_type": "code",
   "execution_count": 58,
   "metadata": {},
   "outputs": [],
   "source": [
    "a = np.array([0, 1, 2, -2])\n",
    "b = np.array([2, 0, 1, 0])"
   ]
  },
  {
   "cell_type": "code",
   "execution_count": 59,
   "metadata": {},
   "outputs": [
    {
     "data": {
      "text/plain": [
       "array([ 0,  2,  4, -3,  2, -2,  0])"
      ]
     },
     "execution_count": 59,
     "metadata": {},
     "output_type": "execute_result"
    }
   ],
   "source": [
    "np.convolve(a, b)"
   ]
  },
  {
   "cell_type": "code",
   "execution_count": null,
   "metadata": {},
   "outputs": [],
   "source": []
  }
 ],
 "metadata": {
  "kernelspec": {
   "display_name": "Python 3",
   "language": "python",
   "name": "python3"
  },
  "language_info": {
   "codemirror_mode": {
    "name": "ipython",
    "version": 3
   },
   "file_extension": ".py",
   "mimetype": "text/x-python",
   "name": "python",
   "nbconvert_exporter": "python",
   "pygments_lexer": "ipython3",
   "version": "3.7.4"
  }
 },
 "nbformat": 4,
 "nbformat_minor": 2
}
