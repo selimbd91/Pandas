{
 "cells": [
  {
   "cell_type": "code",
   "execution_count": 23,
   "metadata": {},
   "outputs": [],
   "source": [
    "import sympy as sp\n",
    "import numpy as np\n",
    "sp.init_printing()"
   ]
  },
  {
   "cell_type": "code",
   "execution_count": 5,
   "metadata": {},
   "outputs": [
    {
     "data": {
      "text/latex": [
       "$\\displaystyle \\left[\\begin{matrix}0 & 1 & -1\\\\-2 & -1 & 0\\\\1 & 0 & 1\\end{matrix}\\right]$"
      ],
      "text/plain": [
       "⎡0   1   -1⎤\n",
       "⎢          ⎥\n",
       "⎢-2  -1  0 ⎥\n",
       "⎢          ⎥\n",
       "⎣1   0   1 ⎦"
      ]
     },
     "execution_count": 5,
     "metadata": {},
     "output_type": "execute_result"
    }
   ],
   "source": [
    "m = sp.Matrix([[0, 1, -1], [-2,-1,0],[1,0,1]])\n",
    "m"
   ]
  },
  {
   "cell_type": "code",
   "execution_count": 6,
   "metadata": {},
   "outputs": [
    {
     "data": {
      "image/png": "[encoded data removed]",
      "text/latex": [
       "$\\displaystyle 1$"
      ],
      "text/plain": [
       "1"
      ]
     },
     "execution_count": 6,
     "metadata": {},
     "output_type": "execute_result"
    }
   ],
   "source": [
    "m.det()"
   ]
  },
  {
   "cell_type": "code",
   "execution_count": 7,
   "metadata": {},
   "outputs": [
    {
     "data": {
      "text/latex": [
       "$\\displaystyle \\left[\\begin{matrix}-1 & -1 & -1\\\\2 & 1 & 2\\\\1 & 1 & 2\\end{matrix}\\right]$"
      ],
      "text/plain": [
       "⎡-1  -1  -1⎤\n",
       "⎢          ⎥\n",
       "⎢2   1   2 ⎥\n",
       "⎢          ⎥\n",
       "⎣1   1   2 ⎦"
      ]
     },
     "execution_count": 7,
     "metadata": {},
     "output_type": "execute_result"
    }
   ],
   "source": [
    "m.inv()\n"
   ]
  },
  {
   "cell_type": "code",
   "execution_count": 3,
   "metadata": {},
   "outputs": [
    {
     "data": {
      "image/png": "[encoded data removed]",
      "text/latex": [
       "$\\displaystyle \\left\\{ -2 : 1, \\  -1 : 1, \\  1 : 1\\right\\}$"
      ],
      "text/plain": [
       "{-2: 1, -1: 1, 1: 1}"
      ]
     },
     "execution_count": 3,
     "metadata": {},
     "output_type": "execute_result"
    }
   ],
   "source": [
    "m.eigenvals()"
   ]
  },
  {
   "cell_type": "code",
   "execution_count": 4,
   "metadata": {},
   "outputs": [
    {
     "data": {
      "image/png": "[encoded data removed]",
      "text/latex": [
       "$\\displaystyle x^{3} - x - 6$"
      ],
      "text/plain": [
       " 3        \n",
       "x  - x - 6"
      ]
     },
     "execution_count": 4,
     "metadata": {},
     "output_type": "execute_result"
    }
   ],
   "source": [
    "x = sp.symbols(\"x\")\n",
    "ex = x**3 - 6*x*2 + 11*x -6\n",
    "ex"
   ]
  },
  {
   "cell_type": "code",
   "execution_count": null,
   "metadata": {},
   "outputs": [],
   "source": []
  },
  {
   "cell_type": "code",
   "execution_count": 5,
   "metadata": {},
   "outputs": [
    {
     "data": {
      "image/png": "[encoded data removed]",
      "text/latex": [
       "$\\displaystyle \\left[ 2, \\  -1 - \\sqrt{2} i, \\  -1 + \\sqrt{2} i\\right]$"
      ],
      "text/plain": [
       "[2, -1 - √2⋅ⅈ, -1 + √2⋅ⅈ]"
      ]
     },
     "execution_count": 5,
     "metadata": {},
     "output_type": "execute_result"
    }
   ],
   "source": [
    "sp.solve(ex, x)"
   ]
  },
  {
   "cell_type": "code",
   "execution_count": 4,
   "metadata": {},
   "outputs": [
    {
     "data": {
      "text/latex": [
       "$\\displaystyle \\left[ \\left( -2, \\  1, \\  \\left[ \\left[\\begin{matrix}-1\\\\0\\\\1\\end{matrix}\\right]\\right]\\right), \\  \\left( -1, \\  1, \\  \\left[ \\left[\\begin{matrix}0\\\\-2\\\\1\\end{matrix}\\right]\\right]\\right), \\  \\left( 1, \\  1, \\  \\left[ \\left[\\begin{matrix}-1\\\\1\\\\0\\end{matrix}\\right]\\right]\\right)\\right]$"
      ],
      "text/plain": [
       "⎡⎛       ⎡⎡-1⎤⎤⎞  ⎛       ⎡⎡0 ⎤⎤⎞  ⎛      ⎡⎡-1⎤⎤⎞⎤\n",
       "⎢⎜       ⎢⎢  ⎥⎥⎟  ⎜       ⎢⎢  ⎥⎥⎟  ⎜      ⎢⎢  ⎥⎥⎟⎥\n",
       "⎢⎜-2, 1, ⎢⎢0 ⎥⎥⎟, ⎜-1, 1, ⎢⎢-2⎥⎥⎟, ⎜1, 1, ⎢⎢1 ⎥⎥⎟⎥\n",
       "⎢⎜       ⎢⎢  ⎥⎥⎟  ⎜       ⎢⎢  ⎥⎥⎟  ⎜      ⎢⎢  ⎥⎥⎟⎥\n",
       "⎣⎝       ⎣⎣1 ⎦⎦⎠  ⎝       ⎣⎣1 ⎦⎦⎠  ⎝      ⎣⎣0 ⎦⎦⎠⎦"
      ]
     },
     "execution_count": 4,
     "metadata": {},
     "output_type": "execute_result"
    }
   ],
   "source": [
    "m.eigenvects()"
   ]
  },
  {
   "cell_type": "code",
   "execution_count": 7,
   "metadata": {},
   "outputs": [
    {
     "data": {
      "text/plain": [
       "array([[ 1.        , -0.70710678,  0.33333333],\n",
       "       [ 0.        ,  0.70710678, -0.66666667],\n",
       "       [ 0.        ,  0.        ,  0.66666667]])"
      ]
     },
     "execution_count": 7,
     "metadata": {},
     "output_type": "execute_result"
    }
   ],
   "source": [
    "ar = np.array([[0, 1, 0], [0,-1,1],[0,0,-2]])\n",
    "value, vector = np.linalg.eig(ar)\n",
    "vector"
   ]
  },
  {
   "cell_type": "code",
   "execution_count": 8,
   "metadata": {},
   "outputs": [
    {
     "data": {
      "text/latex": [
       "$\\displaystyle \\left[\\begin{matrix}2 & 3 & 4\\\\5 & 6 & 7\\\\7 & 2 & 5\\end{matrix}\\right]$"
      ],
      "text/plain": [
       "⎡2  3  4⎤\n",
       "⎢       ⎥\n",
       "⎢5  6  7⎥\n",
       "⎢       ⎥\n",
       "⎣7  2  5⎦"
      ]
     },
     "execution_count": 8,
     "metadata": {},
     "output_type": "execute_result"
    }
   ],
   "source": [
    "n = sp.Matrix([[2, 3, 4], [5, 6, 7], [7, 2, 5]])\n",
    "n"
   ]
  },
  {
   "cell_type": "code",
   "execution_count": 9,
   "metadata": {},
   "outputs": [
    {
     "data": {
      "text/latex": [
       "$\\displaystyle \\left[\\begin{matrix}2 & 3 & 4\\\\5 & 6 & 7\\\\7 & 2 & 5\\end{matrix}\\right]$"
      ],
      "text/plain": [
       "⎡2  3  4⎤\n",
       "⎢       ⎥\n",
       "⎢5  6  7⎥\n",
       "⎢       ⎥\n",
       "⎣7  2  5⎦"
      ]
     },
     "execution_count": 9,
     "metadata": {},
     "output_type": "execute_result"
    }
   ],
   "source": [
    "n.eigenvects()\n",
    "n"
   ]
  },
  {
   "cell_type": "code",
   "execution_count": 10,
   "metadata": {},
   "outputs": [
    {
     "data": {
      "text/latex": [
       "$\\displaystyle \\left[\\begin{matrix}5 & 6 & 7\\\\2 & -4 & -2\\\\-14 & -4 & -10\\end{matrix}\\right]$"
      ],
      "text/plain": [
       "⎡ 5   6    7 ⎤\n",
       "⎢            ⎥\n",
       "⎢ 2   -4  -2 ⎥\n",
       "⎢            ⎥\n",
       "⎣-14  -4  -10⎦"
      ]
     },
     "execution_count": 10,
     "metadata": {},
     "output_type": "execute_result"
    }
   ],
   "source": [
    "xx = m*n\n",
    "xx"
   ]
  },
  {
   "cell_type": "code",
   "execution_count": 11,
   "metadata": {},
   "outputs": [
    {
     "data": {
      "text/latex": [
       "$\\displaystyle \\left[ \\left( 0, \\  1, \\  \\left[ \\left[\\begin{matrix}- \\frac{1}{2}\\\\- \\frac{3}{4}\\\\1\\end{matrix}\\right]\\right]\\right), \\  \\left( - \\frac{9}{2} - \\frac{\\sqrt{111} i}{2}, \\  1, \\  \\left[ \\left[\\begin{matrix}- \\frac{-266 - 14 \\sqrt{111} i - 6 \\left(- \\frac{11}{2} + \\frac{\\sqrt{111} i}{2}\\right) \\left(\\frac{19}{2} + \\frac{\\sqrt{111} i}{2}\\right)}{\\left(\\frac{19}{2} + \\frac{\\sqrt{111} i}{2}\\right) \\left(46 - 2 \\sqrt{111} i\\right)}\\\\- \\frac{98 + \\left(- \\frac{11}{2} + \\frac{\\sqrt{111} i}{2}\\right) \\left(\\frac{19}{2} + \\frac{\\sqrt{111} i}{2}\\right)}{46 - 2 \\sqrt{111} i}\\\\1\\end{matrix}\\right]\\right]\\right), \\  \\left( - \\frac{9}{2} + \\frac{\\sqrt{111} i}{2}, \\  1, \\  \\left[ \\left[\\begin{matrix}- \\frac{-266 - 6 \\left(- \\frac{11}{2} - \\frac{\\sqrt{111} i}{2}\\right) \\left(\\frac{19}{2} - \\frac{\\sqrt{111} i}{2}\\right) + 14 \\sqrt{111} i}{\\left(\\frac{19}{2} - \\frac{\\sqrt{111} i}{2}\\right) \\left(46 + 2 \\sqrt{111} i\\right)}\\\\- \\frac{98 + \\left(- \\frac{11}{2} - \\frac{\\sqrt{111} i}{2}\\right) \\left(\\frac{19}{2} - \\frac{\\sqrt{111} i}{2}\\right)}{46 + 2 \\sqrt{111} i}\\\\1\\end{matrix}\\right]\\right]\\right)\\right]$"
      ],
      "text/plain": [
       "⎡                  ⎛                 ⎡⎡ ⎛                     ⎛  11   √111⋅ⅈ⎞ \n",
       "⎢                  ⎜                 ⎢⎢-⎜-266 - 14⋅√111⋅ⅈ - 6⋅⎜- ── + ──────⎟⋅\n",
       "⎢                  ⎜                 ⎢⎢ ⎝                     ⎝  2      2   ⎠ \n",
       "⎢                  ⎜                 ⎢⎢───────────────────────────────────────\n",
       "⎢                  ⎜                 ⎢⎢            ⎛19   √111⋅ⅈ⎞              \n",
       "⎢⎛      ⎡⎡-1/2⎤⎤⎞  ⎜                 ⎢⎢            ⎜── + ──────⎟⋅(46 - 2⋅√111⋅\n",
       "⎢⎜      ⎢⎢    ⎥⎥⎟  ⎜  9   √111⋅ⅈ     ⎢⎢            ⎝2      2   ⎠              \n",
       "⎢⎜0, 1, ⎢⎢-3/4⎥⎥⎟, ⎜- ─ - ──────, 1, ⎢⎢                                       \n",
       "⎢⎜      ⎢⎢    ⎥⎥⎟  ⎜  2     2        ⎢⎢         ⎛     ⎛  11   √111⋅ⅈ⎞ ⎛19   √1\n",
       "⎢⎝      ⎣⎣ 1  ⎦⎦⎠  ⎜                 ⎢⎢        -⎜98 + ⎜- ── + ──────⎟⋅⎜── + ──\n",
       "⎢                  ⎜                 ⎢⎢         ⎝     ⎝  2      2   ⎠ ⎝2      \n",
       "⎢                  ⎜                 ⎢⎢        ───────────────────────────────\n",
       "⎢                  ⎜                 ⎢⎢                    46 - 2⋅√111⋅ⅈ      \n",
       "⎢                  ⎜                 ⎢⎢                                       \n",
       "⎣                  ⎝                 ⎣⎣                          1            \n",
       "\n",
       "⎛19   √111⋅ⅈ⎞⎞ ⎤⎤⎞  ⎛                 ⎡⎡ ⎛         ⎛  11   √111⋅ⅈ⎞ ⎛19   √111⋅\n",
       "⎜── + ──────⎟⎟ ⎥⎥⎟  ⎜                 ⎢⎢-⎜-266 - 6⋅⎜- ── - ──────⎟⋅⎜── - ─────\n",
       "⎝2      2   ⎠⎠ ⎥⎥⎟  ⎜                 ⎢⎢ ⎝         ⎝  2      2   ⎠ ⎝2      2  \n",
       "───────────────⎥⎥⎟  ⎜                 ⎢⎢──────────────────────────────────────\n",
       "               ⎥⎥⎟  ⎜                 ⎢⎢            ⎛19   √111⋅ⅈ⎞             \n",
       "ⅈ)             ⎥⎥⎟  ⎜                 ⎢⎢            ⎜── - ──────⎟⋅(46 + 2⋅√111\n",
       "               ⎥⎥⎟  ⎜  9   √111⋅ⅈ     ⎢⎢            ⎝2      2   ⎠             \n",
       "               ⎥⎥⎟, ⎜- ─ + ──────, 1, ⎢⎢                                      \n",
       "11⋅ⅈ⎞⎞         ⎥⎥⎟  ⎜  2     2        ⎢⎢         ⎛     ⎛  11   √111⋅ⅈ⎞ ⎛19   √\n",
       "────⎟⎟         ⎥⎥⎟  ⎜                 ⎢⎢        -⎜98 + ⎜- ── - ──────⎟⋅⎜── - ─\n",
       "2   ⎠⎠         ⎥⎥⎟  ⎜                 ⎢⎢         ⎝     ⎝  2      2   ⎠ ⎝2     \n",
       "───────        ⎥⎥⎟  ⎜                 ⎢⎢        ──────────────────────────────\n",
       "               ⎥⎥⎟  ⎜                 ⎢⎢                    46 + 2⋅√111⋅ⅈ     \n",
       "               ⎥⎥⎟  ⎜                 ⎢⎢                                      \n",
       "               ⎦⎦⎠  ⎝                 ⎣⎣                          1           \n",
       "\n",
       "ⅈ⎞            ⎞ ⎤⎤⎞⎤\n",
       "─⎟ + 14⋅√111⋅ⅈ⎟ ⎥⎥⎟⎥\n",
       " ⎠            ⎠ ⎥⎥⎟⎥\n",
       "────────────────⎥⎥⎟⎥\n",
       "                ⎥⎥⎟⎥\n",
       "⋅ⅈ)             ⎥⎥⎟⎥\n",
       "                ⎥⎥⎟⎥\n",
       "                ⎥⎥⎟⎥\n",
       "111⋅ⅈ⎞⎞         ⎥⎥⎟⎥\n",
       "─────⎟⎟         ⎥⎥⎟⎥\n",
       " 2   ⎠⎠         ⎥⎥⎟⎥\n",
       "────────        ⎥⎥⎟⎥\n",
       "                ⎥⎥⎟⎥\n",
       "                ⎥⎥⎟⎥\n",
       "                ⎦⎦⎠⎦"
      ]
     },
     "execution_count": 11,
     "metadata": {},
     "output_type": "execute_result"
    }
   ],
   "source": [
    "xx.eigenvects()"
   ]
  },
  {
   "cell_type": "code",
   "execution_count": 12,
   "metadata": {},
   "outputs": [
    {
     "data": {
      "text/latex": [
       "$\\displaystyle \\left[\\begin{matrix}1\\\\0\\\\0\\end{matrix}\\right]$"
      ],
      "text/plain": [
       "⎡1⎤\n",
       "⎢ ⎥\n",
       "⎢0⎥\n",
       "⎢ ⎥\n",
       "⎣0⎦"
      ]
     },
     "execution_count": 12,
     "metadata": {},
     "output_type": "execute_result"
    }
   ],
   "source": [
    "mm = sp.Matrix([1, 0, 0])\n",
    "mm"
   ]
  },
  {
   "cell_type": "code",
   "execution_count": 13,
   "metadata": {},
   "outputs": [
    {
     "data": {
      "text/latex": [
       "$\\displaystyle \\left[\\begin{matrix}1 & 0 & 0\\end{matrix}\\right]$"
      ],
      "text/plain": [
       "[1  0  0]"
      ]
     },
     "execution_count": 13,
     "metadata": {},
     "output_type": "execute_result"
    }
   ],
   "source": [
    "nn = mm.transpose()\n",
    "nn"
   ]
  },
  {
   "cell_type": "code",
   "execution_count": 14,
   "metadata": {},
   "outputs": [
    {
     "data": {
      "image/png": "[encoded data removed]",
      "text/latex": [
       "$\\displaystyle x^{3} + x^{2} - 16 x - 16$"
      ],
      "text/plain": [
       " 3    2            \n",
       "x  + x  - 16⋅x - 16"
      ]
     },
     "execution_count": 14,
     "metadata": {},
     "output_type": "execute_result"
    }
   ],
   "source": [
    "ec = x**3 + x**2 - 16*x -16\n",
    "ec"
   ]
  },
  {
   "cell_type": "code",
   "execution_count": 15,
   "metadata": {},
   "outputs": [
    {
     "data": {
      "image/png": "[encoded data removed]",
      "text/latex": [
       "$\\displaystyle \\left[ -4, \\  -1, \\  4\\right]$"
      ],
      "text/plain": [
       "[-4, -1, 4]"
      ]
     },
     "execution_count": 15,
     "metadata": {},
     "output_type": "execute_result"
    }
   ],
   "source": [
    "p = sp.solve(ec, x)\n",
    "p"
   ]
  },
  {
   "cell_type": "code",
   "execution_count": 16,
   "metadata": {},
   "outputs": [
    {
     "data": {
      "text/latex": [
       "$\\displaystyle \\left[\\begin{matrix}1 & 2 & 1\\\\3 & 2 & 1\\\\4 & 5 & 1\\end{matrix}\\right]$"
      ],
      "text/plain": [
       "⎡1  2  1⎤\n",
       "⎢       ⎥\n",
       "⎢3  2  1⎥\n",
       "⎢       ⎥\n",
       "⎣4  5  1⎦"
      ]
     },
     "execution_count": 16,
     "metadata": {},
     "output_type": "execute_result"
    }
   ],
   "source": [
    "A = sp.Matrix([[1,2,1],[3,2,1],[4,5,1]])\n",
    "A"
   ]
  },
  {
   "cell_type": "code",
   "execution_count": 17,
   "metadata": {},
   "outputs": [
    {
     "data": {
      "image/png": "[encoded data removed]",
      "text/latex": [
       "$\\displaystyle 6$"
      ],
      "text/plain": [
       "6"
      ]
     },
     "execution_count": 17,
     "metadata": {},
     "output_type": "execute_result"
    }
   ],
   "source": [
    "A.det()"
   ]
  },
  {
   "cell_type": "code",
   "execution_count": 18,
   "metadata": {},
   "outputs": [
    {
     "data": {
      "text/latex": [
       "$\\displaystyle \\left[\\begin{matrix}- \\frac{1}{2} & \\frac{1}{2} & 0\\\\\\frac{1}{6} & - \\frac{1}{2} & \\frac{1}{3}\\\\\\frac{7}{6} & \\frac{1}{2} & - \\frac{2}{3}\\end{matrix}\\right]$"
      ],
      "text/plain": [
       "⎡-1/2  1/2    0  ⎤\n",
       "⎢                ⎥\n",
       "⎢1/6   -1/2  1/3 ⎥\n",
       "⎢                ⎥\n",
       "⎣7/6   1/2   -2/3⎦"
      ]
     },
     "execution_count": 18,
     "metadata": {},
     "output_type": "execute_result"
    }
   ],
   "source": [
    "A.inv()"
   ]
  },
  {
   "cell_type": "code",
   "execution_count": 20,
   "metadata": {},
   "outputs": [
    {
     "data": {
      "text/latex": [
       "$\\displaystyle \\left[\\begin{matrix}512 & -800 & 0 & 800\\\\512 & 0 & -800 & 1600\\\\1 & 0 & 0 & 0\\end{matrix}\\right]$"
      ],
      "text/plain": [
       "⎡512  -800   0    800 ⎤\n",
       "⎢                     ⎥\n",
       "⎢512   0    -800  1600⎥\n",
       "⎢                     ⎥\n",
       "⎣ 1    0     0     0  ⎦"
      ]
     },
     "execution_count": 20,
     "metadata": {},
     "output_type": "execute_result"
    }
   ],
   "source": [
    "C = sp.Matrix([[512, -800, 0, 800], [512, 0, -800, 1600], [1, 0, 0, 0]])\n",
    "C"
   ]
  },
  {
   "cell_type": "code",
   "execution_count": 21,
   "metadata": {},
   "outputs": [
    {
     "data": {
      "text/latex": [
       "$\\displaystyle \\left[\\begin{matrix}4\\\\0\\\\0\\\\1\\end{matrix}\\right]$"
      ],
      "text/plain": [
       "⎡4⎤\n",
       "⎢ ⎥\n",
       "⎢0⎥\n",
       "⎢ ⎥\n",
       "⎢0⎥\n",
       "⎢ ⎥\n",
       "⎣1⎦"
      ]
     },
     "execution_count": 21,
     "metadata": {},
     "output_type": "execute_result"
    }
   ],
   "source": [
    "world = sp.Matrix([4,0,0,1])\n",
    "world"
   ]
  },
  {
   "cell_type": "code",
   "execution_count": 22,
   "metadata": {},
   "outputs": [
    {
     "data": {
      "text/latex": [
       "$\\displaystyle \\left[\\begin{matrix}2848\\\\3648\\\\4\\end{matrix}\\right]$"
      ],
      "text/plain": [
       "⎡2848⎤\n",
       "⎢    ⎥\n",
       "⎢3648⎥\n",
       "⎢    ⎥\n",
       "⎣ 4  ⎦"
      ]
     },
     "execution_count": 22,
     "metadata": {},
     "output_type": "execute_result"
    }
   ],
   "source": [
    "camera = C*world\n",
    "camera"
   ]
  },
  {
   "cell_type": "code",
   "execution_count": 25,
   "metadata": {},
   "outputs": [
    {
     "data": {
      "image/png": "[encoded data removed]",
      "text/latex": [
       "$\\displaystyle 712$"
      ],
      "text/plain": [
       "712"
      ]
     },
     "metadata": {},
     "output_type": "display_data"
    },
    {
     "data": {
      "image/png": "[encoded data removed]",
      "text/latex": [
       "$\\displaystyle 912$"
      ],
      "text/plain": [
       "912"
      ]
     },
     "metadata": {},
     "output_type": "display_data"
    }
   ],
   "source": [
    "a = camera[0] / camera[2]\n",
    "b = camera[1] / camera[2]\n",
    "display(a)\n",
    "display(b)"
   ]
  },
  {
   "cell_type": "code",
   "execution_count": 26,
   "metadata": {},
   "outputs": [
    {
     "data": {
      "image/png": "[encoded data removed]",
      "text/latex": [
       "$\\displaystyle 1 + x + \\frac{x^{2}}{2} + \\frac{x^{3}}{6} + \\frac{x^{4}}{24} + \\frac{x^{5}}{120} + O\\left(x^{6}\\right)$"
      ],
      "text/plain": [
       "         2    3    4     5        \n",
       "        x    x    x     x     ⎛ 6⎞\n",
       "1 + x + ── + ── + ── + ─── + O⎝x ⎠\n",
       "        2    6    24   120        "
      ]
     },
     "execution_count": 26,
     "metadata": {},
     "output_type": "execute_result"
    }
   ],
   "source": [
    "sp.series(sp.exp(x))"
   ]
  },
  {
   "cell_type": "code",
   "execution_count": 30,
   "metadata": {},
   "outputs": [
    {
     "data": {
      "image/png": "[encoded data removed]",
      "text/latex": [
       "$\\displaystyle 1 - \\frac{x^{2}}{2} + \\frac{x^{4}}{24} - \\frac{x^{6}}{720} + \\frac{x^{8}}{40320} - \\frac{x^{10}}{3628800} + \\frac{x^{12}}{479001600} - \\frac{x^{14}}{87178291200} + O\\left(x^{16}\\right)$"
      ],
      "text/plain": [
       "     2    4     6      8       10         12           14             \n",
       "    x    x     x      x       x          x            x          ⎛ 16⎞\n",
       "1 - ── + ── - ─── + ───── - ─────── + ───────── - ─────────── + O⎝x  ⎠\n",
       "    2    24   720   40320   3628800   479001600   87178291200         "
      ]
     },
     "execution_count": 30,
     "metadata": {},
     "output_type": "execute_result"
    }
   ],
   "source": [
    "sp.series(sp.cos(x), x, 0, 16)"
   ]
  },
  {
   "cell_type": "code",
   "execution_count": 37,
   "metadata": {},
   "outputs": [
    {
     "data": {
      "image/png": "[encoded data removed]",
      "text/latex": [
       "$\\displaystyle \\frac{x + 2}{\\left(x - 4\\right) \\left(x + 3\\right)}$"
      ],
      "text/plain": [
       "     x + 2     \n",
       "───────────────\n",
       "(x - 4)⋅(x + 3)"
      ]
     },
     "execution_count": 37,
     "metadata": {},
     "output_type": "execute_result"
    }
   ],
   "source": [
    "t = (x+2)/((x+3)*(x-4))\n",
    "t\n"
   ]
  },
  {
   "cell_type": "code",
   "execution_count": 41,
   "metadata": {},
   "outputs": [
    {
     "data": {
      "image/png": "[encoded data removed]",
      "text/latex": [
       "$\\displaystyle \\left[ - \\frac{x}{2}\\right]$"
      ],
      "text/plain": [
       "⎡-x ⎤\n",
       "⎢───⎥\n",
       "⎣ 2 ⎦"
      ]
     },
     "execution_count": 41,
     "metadata": {},
     "output_type": "execute_result"
    }
   ],
   "source": [
    "y = sp.symbols(\"y\")\n",
    "sp.solve (x**2+4*x*y+4*y**2,y)\n"
   ]
  },
  {
   "cell_type": "code",
   "execution_count": 46,
   "metadata": {},
   "outputs": [
    {
     "ename": "AttributeError",
     "evalue": "'Symbol' object has no attribute 'sin'",
     "output_type": "error",
     "traceback": [
      "\u001b[1;31m---------------------------------------------------------------------------\u001b[0m",
      "\u001b[1;31mAttributeError\u001b[0m                            Traceback (most recent call last)",
      "\u001b[1;32m<ipython-input-46-92f2c2d0df9d>\u001b[0m in \u001b[0;36m<module>\u001b[1;34m\u001b[0m\n\u001b[1;32m----> 1\u001b[1;33m \u001b[0mnp\u001b[0m\u001b[1;33m.\u001b[0m\u001b[0msin\u001b[0m\u001b[1;33m(\u001b[0m\u001b[0mx\u001b[0m\u001b[1;33m)\u001b[0m\u001b[1;33m\u001b[0m\u001b[1;33m\u001b[0m\u001b[0m\n\u001b[0m",
      "\u001b[1;31mAttributeError\u001b[0m: 'Symbol' object has no attribute 'sin'"
     ]
    }
   ],
   "source": [
    "np.sin(x)"
   ]
  },
  {
   "cell_type": "code",
   "execution_count": 61,
   "metadata": {},
   "outputs": [
    {
     "data": {
      "image/png": "[encoded data removed]",
      "text/latex": [
       "$\\displaystyle \\frac{2 \\tan{\\left(x \\right)}}{\\tan^{2}{\\left(x \\right)} + 1}$"
      ],
      "text/plain": [
       "  2⋅tan(x) \n",
       "───────────\n",
       "   2       \n",
       "tan (x) + 1"
      ]
     },
     "execution_count": 61,
     "metadata": {},
     "output_type": "execute_result"
    }
   ],
   "source": [
    "(sp.sin(2*x)).rewrite()\n"
   ]
  },
  {
   "cell_type": "code",
   "execution_count": 63,
   "metadata": {},
   "outputs": [
    {
     "data": {
      "image/png": "[encoded data removed]",
      "text/latex": [
       "$\\displaystyle \\tan{\\left(x + 1 \\right)}$"
      ],
      "text/plain": [
       "tan(x + 1)"
      ]
     },
     "execution_count": 63,
     "metadata": {},
     "output_type": "execute_result"
    }
   ],
   "source": [
    "b = sp.tan(x + 1)\n",
    "b"
   ]
  },
  {
   "cell_type": "code",
   "execution_count": 66,
   "metadata": {},
   "outputs": [
    {
     "data": {
      "image/png": "[encoded data removed]",
      "text/latex": [
       "$\\displaystyle \\frac{\\tan{\\left(x \\right)}}{- \\tan{\\left(1 \\right)} \\tan{\\left(x \\right)} + 1} + \\frac{\\tan{\\left(1 \\right)}}{- \\tan{\\left(1 \\right)} \\tan{\\left(x \\right)} + 1}$"
      ],
      "text/plain": [
       "      tan(x)               tan(1)      \n",
       "────────────────── + ──────────────────\n",
       "-tan(1)⋅tan(x) + 1   -tan(1)⋅tan(x) + 1"
      ]
     },
     "execution_count": 66,
     "metadata": {},
     "output_type": "execute_result"
    }
   ],
   "source": [
    "b.expand(trig = True)"
   ]
  },
  {
   "cell_type": "code",
   "execution_count": 68,
   "metadata": {},
   "outputs": [
    {
     "data": {
      "image/png": "[encoded data removed]",
      "text/latex": [
       "$\\displaystyle \\lim_{x \\to \\frac{\\pi}{2}^+} \\sin{\\left(x \\right)}$"
      ],
      "text/plain": [
       " lim sin(x)\n",
       "   π       \n",
       "x─→─⁺      \n",
       "   2       "
      ]
     },
     "execution_count": 68,
     "metadata": {},
     "output_type": "execute_result"
    }
   ],
   "source": [
    "k = sp.Limit(sp.sin(x), x, sp.pi/2)\n",
    "k"
   ]
  },
  {
   "cell_type": "code",
   "execution_count": 79,
   "metadata": {},
   "outputs": [
    {
     "data": {
      "image/png": "[encoded data removed]",
      "text/latex": [
       "$\\displaystyle 12146304367025329675766243241881295855454217088483382315328918161829235892362167668831156960612640202170735835221294047782591091570411651472186029519906261646730733907419814952960000000000000000000000000000$"
      ],
      "text/plain": [
       "121463043670253296757662432418812958554542170884833823153289181618292358923621\n",
       "676688311569606126402021707358352212940477825910915704116514721860295199062616\n",
       "46730733907419814952960000000000000000000000000000"
      ]
     },
     "execution_count": 79,
     "metadata": {},
     "output_type": "execute_result"
    }
   ],
   "source": [
    "o = sp.factorial(123)\n",
    "o\n"
   ]
  },
  {
   "cell_type": "code",
   "execution_count": 20,
   "metadata": {},
   "outputs": [
    {
     "data": {
      "text/latex": [
       "$\\displaystyle \\left[\\begin{matrix}-1 & -1 & -1\\\\2 & 1 & 2\\\\1 & 1 & 2\\end{matrix}\\right]$"
      ],
      "text/plain": [
       "⎡-1  -1  -1⎤\n",
       "⎢          ⎥\n",
       "⎢2   1   2 ⎥\n",
       "⎢          ⎥\n",
       "⎣1   1   2 ⎦"
      ]
     },
     "execution_count": 20,
     "metadata": {},
     "output_type": "execute_result"
    }
   ],
   "source": [
    "A = sp.Matrix([[4,3,6],[-4,-3,-4],[-1,-1,-3]])\n",
    "T = sp.Matrix([[0,1,-1],[-2, -1, 0],[1,0,1]])\n",
    "inverse = T.inv()\n"
   ]
  },
  {
   "cell_type": "code",
   "execution_count": 17,
   "metadata": {},
   "outputs": [
    {
     "data": {
      "text/latex": [
       "$\\displaystyle \\left[\\begin{matrix}0 & 1 & 1\\\\-2 & -1 & 0\\\\1 & 0 & 1\\end{matrix}\\right]$"
      ],
      "text/plain": [
       "⎡0   1   1⎤\n",
       "⎢         ⎥\n",
       "⎢-2  -1  0⎥\n",
       "⎢         ⎥\n",
       "⎣1   0   1⎦"
      ]
     },
     "execution_count": 17,
     "metadata": {},
     "output_type": "execute_result"
    }
   ],
   "source": [
    "T"
   ]
  },
  {
   "cell_type": "code",
   "execution_count": 21,
   "metadata": {},
   "outputs": [
    {
     "data": {
      "text/latex": [
       "$\\displaystyle \\left[\\begin{matrix}0 & 1 & 2\\\\2 & -1 & 0\\\\-1 & 0 & -2\\end{matrix}\\right]$"
      ],
      "text/plain": [
       "⎡0   1   2 ⎤\n",
       "⎢          ⎥\n",
       "⎢2   -1  0 ⎥\n",
       "⎢          ⎥\n",
       "⎣-1  0   -2⎦"
      ]
     },
     "execution_count": 21,
     "metadata": {},
     "output_type": "execute_result"
    }
   ],
   "source": [
    "\n",
    "kk = A*T\n",
    "kk"
   ]
  },
  {
   "cell_type": "code",
   "execution_count": null,
   "metadata": {},
   "outputs": [],
   "source": []
  },
  {
   "cell_type": "code",
   "execution_count": 22,
   "metadata": {},
   "outputs": [
    {
     "data": {
      "text/latex": [
       "$\\displaystyle \\left[\\begin{matrix}-1 & 0 & 0\\\\0 & 1 & 0\\\\0 & 0 & -2\\end{matrix}\\right]$"
      ],
      "text/plain": [
       "⎡-1  0  0 ⎤\n",
       "⎢         ⎥\n",
       "⎢0   1  0 ⎥\n",
       "⎢         ⎥\n",
       "⎣0   0  -2⎦"
      ]
     },
     "execution_count": 22,
     "metadata": {},
     "output_type": "execute_result"
    }
   ],
   "source": [
    "pp = T.inv()\n",
    "\n",
    "res = pp*kk\n",
    "res"
   ]
  },
  {
   "cell_type": "code",
   "execution_count": 14,
   "metadata": {},
   "outputs": [
    {
     "data": {
      "text/latex": [
       "$\\displaystyle \\left[\\begin{matrix}- \\frac{1}{3} & - \\frac{1}{3} & - \\frac{5}{3}\\\\\\frac{14}{3} & \\frac{11}{3} & \\frac{22}{3}\\\\- \\frac{2}{3} & - \\frac{2}{3} & - \\frac{4}{3}\\end{matrix}\\right]$"
      ],
      "text/plain": [
       "⎡-1/3  -1/3  -5/3⎤\n",
       "⎢                ⎥\n",
       "⎢14/3  11/3  22/3⎥\n",
       "⎢                ⎥\n",
       "⎣-2/3  -2/3  -4/3⎦"
      ]
     },
     "execution_count": 14,
     "metadata": {},
     "output_type": "execute_result"
    }
   ],
   "source": [
    "a = pp*A\n",
    "a"
   ]
  },
  {
   "cell_type": "code",
   "execution_count": 15,
   "metadata": {},
   "outputs": [
    {
     "data": {
      "text/latex": [
       "$\\displaystyle \\left[\\begin{matrix}\\frac{5}{3} & \\frac{5}{3} & \\frac{13}{3}\\\\- \\frac{10}{3} & - \\frac{13}{3} & - \\frac{26}{3}\\\\\\frac{4}{3} & \\frac{4}{3} & \\frac{8}{3}\\end{matrix}\\right]$"
      ],
      "text/plain": [
       "⎡ 5/3    5/3   13/3 ⎤\n",
       "⎢                   ⎥\n",
       "⎢-10/3  -13/3  -26/3⎥\n",
       "⎢                   ⎥\n",
       "⎣ 4/3    4/3    8/3 ⎦"
      ]
     },
     "execution_count": 15,
     "metadata": {},
     "output_type": "execute_result"
    }
   ],
   "source": [
    "res = a *A\n",
    "res"
   ]
  },
  {
   "cell_type": "code",
   "execution_count": 30,
   "metadata": {},
   "outputs": [
    {
     "data": {
      "text/latex": [
       "$\\displaystyle \\left[\\begin{matrix}0 & 1\\\\2 & -1\\end{matrix}\\right]$"
      ],
      "text/plain": [
       "⎡0  1 ⎤\n",
       "⎢     ⎥\n",
       "⎣2  -1⎦"
      ]
     },
     "execution_count": 30,
     "metadata": {},
     "output_type": "execute_result"
    }
   ],
   "source": [
    "A = sp.Matrix([[0,1],[2,-1]])\n",
    "A"
   ]
  },
  {
   "cell_type": "code",
   "execution_count": 31,
   "metadata": {},
   "outputs": [
    {
     "data": {
      "text/latex": [
       "$\\displaystyle \\left[\\begin{matrix}2 & -1\\\\-2 & 3\\end{matrix}\\right]$"
      ],
      "text/plain": [
       "⎡2   -1⎤\n",
       "⎢      ⎥\n",
       "⎣-2  3 ⎦"
      ]
     },
     "execution_count": 31,
     "metadata": {},
     "output_type": "execute_result"
    }
   ],
   "source": [
    "AA = A*A\n",
    "AA"
   ]
  },
  {
   "cell_type": "code",
   "execution_count": 32,
   "metadata": {},
   "outputs": [
    {
     "data": {
      "text/latex": [
       "$\\displaystyle \\left[\\begin{matrix}0 & 3\\\\6 & -3\\end{matrix}\\right]$"
      ],
      "text/plain": [
       "⎡0  3 ⎤\n",
       "⎢     ⎥\n",
       "⎣6  -3⎦"
      ]
     },
     "execution_count": 32,
     "metadata": {},
     "output_type": "execute_result"
    }
   ],
   "source": [
    "3*A"
   ]
  },
  {
   "cell_type": "code",
   "execution_count": null,
   "metadata": {},
   "outputs": [],
   "source": []
  },
  {
   "cell_type": "code",
   "execution_count": null,
   "metadata": {},
   "outputs": [],
   "source": []
  },
  {
   "cell_type": "code",
   "execution_count": 26,
   "metadata": {},
   "outputs": [
    {
     "data": {
      "text/latex": [
       "$\\displaystyle \\left[\\begin{matrix}2 & 4 & 2\\\\1 & -1 & 5\\\\0 & -3 & -3\\end{matrix}\\right]$"
      ],
      "text/plain": [
       "⎡2  4   2 ⎤\n",
       "⎢         ⎥\n",
       "⎢1  -1  5 ⎥\n",
       "⎢         ⎥\n",
       "⎣0  -3  -3⎦"
      ]
     },
     "execution_count": 26,
     "metadata": {},
     "output_type": "execute_result"
    }
   ],
   "source": [
    "a = sp.Matrix([[2,4,2],[1,-1, 5],[0,-3,-3]])\n",
    "\n",
    "a"
   ]
  },
  {
   "cell_type": "code",
   "execution_count": 27,
   "metadata": {},
   "outputs": [
    {
     "data": {
      "text/latex": [
       "$\\displaystyle \\left[\\begin{matrix}\\frac{3}{7} & \\frac{1}{7} & \\frac{11}{21}\\\\\\frac{1}{14} & - \\frac{1}{7} & - \\frac{4}{21}\\\\- \\frac{1}{14} & \\frac{1}{7} & - \\frac{1}{7}\\end{matrix}\\right]$"
      ],
      "text/plain": [
       "⎡              11  ⎤\n",
       "⎢ 3/7   1/7    ──  ⎥\n",
       "⎢              21  ⎥\n",
       "⎢                  ⎥\n",
       "⎢1/14   -1/7  -4/21⎥\n",
       "⎢                  ⎥\n",
       "⎣-1/14  1/7   -1/7 ⎦"
      ]
     },
     "execution_count": 27,
     "metadata": {},
     "output_type": "execute_result"
    }
   ],
   "source": [
    "a.inv()"
   ]
  },
  {
   "cell_type": "code",
   "execution_count": 33,
   "metadata": {},
   "outputs": [
    {
     "data": {
      "text/latex": [
       "$\\displaystyle \\left[\\begin{matrix}1\\\\0\\end{matrix}\\right]$"
      ],
      "text/plain": [
       "⎡1⎤\n",
       "⎢ ⎥\n",
       "⎣0⎦"
      ]
     },
     "execution_count": 33,
     "metadata": {},
     "output_type": "execute_result"
    }
   ],
   "source": [
    "A = sp.Matrix([[0,1],[2,-1]])\n",
    "B = sp.Matrix([1,0])\n",
    "B"
   ]
  },
  {
   "cell_type": "code",
   "execution_count": 34,
   "metadata": {},
   "outputs": [
    {
     "data": {
      "text/latex": [
       "$\\displaystyle \\left[\\begin{matrix}0 & 1\\end{matrix}\\right]$"
      ],
      "text/plain": [
       "[0  1]"
      ]
     },
     "execution_count": 34,
     "metadata": {},
     "output_type": "execute_result"
    }
   ],
   "source": [
    "C = sp.Matrix([[0,1]])\n",
    "C"
   ]
  },
  {
   "cell_type": "code",
   "execution_count": 36,
   "metadata": {},
   "outputs": [
    {
     "data": {
      "text/latex": [
       "$\\displaystyle \\left[\\begin{matrix}0\\\\2\\end{matrix}\\right]$"
      ],
      "text/plain": [
       "⎡0⎤\n",
       "⎢ ⎥\n",
       "⎣2⎦"
      ]
     },
     "execution_count": 36,
     "metadata": {},
     "output_type": "execute_result"
    }
   ],
   "source": [
    "com = A*B\n",
    "com"
   ]
  },
  {
   "cell_type": "code",
   "execution_count": 41,
   "metadata": {},
   "outputs": [
    {
     "data": {
      "text/latex": [
       "$\\displaystyle \\left[\\begin{matrix}1 & 0\\\\0 & 2\\end{matrix}\\right]$"
      ],
      "text/plain": [
       "⎡1  0⎤\n",
       "⎢    ⎥\n",
       "⎣0  2⎦"
      ]
     },
     "execution_count": 41,
     "metadata": {},
     "output_type": "execute_result"
    }
   ],
   "source": [
    "control = B.row_join(com)\n",
    "\n",
    "control "
   ]
  },
  {
   "cell_type": "code",
   "execution_count": 44,
   "metadata": {},
   "outputs": [
    {
     "data": {
      "text/latex": [
       "$\\displaystyle \\left[\\begin{matrix}1 & 0\\\\0 & \\frac{1}{2}\\end{matrix}\\right]$"
      ],
      "text/plain": [
       "⎡1   0 ⎤\n",
       "⎢      ⎥\n",
       "⎣0  1/2⎦"
      ]
     },
     "execution_count": 44,
     "metadata": {},
     "output_type": "execute_result"
    }
   ],
   "source": [
    "r = control.inv()\n",
    "r"
   ]
  },
  {
   "cell_type": "code",
   "execution_count": 42,
   "metadata": {},
   "outputs": [
    {
     "data": {
      "text/latex": [
       "$\\displaystyle \\left[\\begin{matrix}0 & -2\\end{matrix}\\right]$"
      ],
      "text/plain": [
       "[0  -2]"
      ]
     },
     "execution_count": 42,
     "metadata": {},
     "output_type": "execute_result"
    }
   ],
   "source": [
    "fir = -C*control\n",
    "fir"
   ]
  },
  {
   "cell_type": "code",
   "execution_count": 45,
   "metadata": {},
   "outputs": [
    {
     "data": {
      "text/latex": [
       "$\\displaystyle \\left[\\begin{matrix}0 & - \\frac{1}{2}\\end{matrix}\\right]$"
      ],
      "text/plain": [
       "[0  -1/2]"
      ]
     },
     "execution_count": 45,
     "metadata": {},
     "output_type": "execute_result"
    }
   ],
   "source": [
    "dd = -C * r\n",
    "dd"
   ]
  },
  {
   "cell_type": "code",
   "execution_count": 43,
   "metadata": {},
   "outputs": [
    {
     "data": {
      "text/latex": [
       "$\\displaystyle \\left[\\begin{matrix}-8 & -4\\end{matrix}\\right]$"
      ],
      "text/plain": [
       "[-8  -4]"
      ]
     },
     "execution_count": 43,
     "metadata": {},
     "output_type": "execute_result"
    }
   ],
   "source": [
    "ok = fir*(A**2 + 3*A + 2*sp.eye(2))\n",
    "ok"
   ]
  },
  {
   "cell_type": "code",
   "execution_count": 46,
   "metadata": {},
   "outputs": [
    {
     "data": {
      "text/latex": [
       "$\\displaystyle \\left[\\begin{matrix}-2 & -1\\end{matrix}\\right]$"
      ],
      "text/plain": [
       "[-2  -1]"
      ]
     },
     "execution_count": 46,
     "metadata": {},
     "output_type": "execute_result"
    }
   ],
   "source": [
    "okk = dd*(A**2 + 3*A + 2*sp.eye(2))\n",
    "okk"
   ]
  },
  {
   "cell_type": "code",
   "execution_count": 55,
   "metadata": {},
   "outputs": [
    {
     "data": {
      "text/latex": [
       "$\\displaystyle \\left[\\begin{matrix}\\frac{2}{3} & - \\frac{1}{3} & 1\\\\- \\frac{1}{6} & \\frac{1}{3} & - \\frac{2}{3}\\\\\\frac{1}{6} & - \\frac{1}{3} & \\frac{1}{3}\\end{matrix}\\right]$"
      ],
      "text/plain": [
       "⎡2/3   -1/3   1  ⎤\n",
       "⎢                ⎥\n",
       "⎢-1/6  1/3   -2/3⎥\n",
       "⎢                ⎥\n",
       "⎣1/6   -1/3  1/3 ⎦"
      ]
     },
     "execution_count": 55,
     "metadata": {},
     "output_type": "execute_result"
    }
   ],
   "source": [
    "a = sp.Matrix([[1,2],[-1, 1]])\n",
    "B = sp.Matrix([2,1, 0])\n",
    "c = sp.Matrix([[1,1]])\n",
    "A = sp.Matrix([[1, 2, 0],[-1, 1, 0],[-1,-1,0]])\n",
    "q = B.row_join(A*B)\n",
    "Q = q.row_join(A**2*B)\n",
    "Q_inv = Q.inv()\n",
    "Q_inv\n"
   ]
  },
  {
   "cell_type": "code",
   "execution_count": 57,
   "metadata": {},
   "outputs": [
    {
     "data": {
      "text/latex": [
       "$\\displaystyle \\left[\\begin{matrix}- \\frac{8}{3} & \\frac{1}{3} & - \\frac{1}{3}\\end{matrix}\\right]$"
      ],
      "text/plain": [
       "[-8/3  1/3  -1/3]"
      ]
     },
     "execution_count": 57,
     "metadata": {},
     "output_type": "execute_result"
    }
   ],
   "source": [
    "C = sp.Matrix([[0,0,1]])\n",
    "res = -C*Q_inv*(A**3 + 3* A**2 + 3*A +sp.eye(3))\n",
    "res"
   ]
  },
  {
   "cell_type": "code",
   "execution_count": 64,
   "metadata": {},
   "outputs": [],
   "source": [
    "A = sp.Matrix([[1,2],[-1,1]])"
   ]
  },
  {
   "cell_type": "code",
   "execution_count": 71,
   "metadata": {},
   "outputs": [
    {
     "data": {
      "text/latex": [
       "$\\displaystyle \\left[\\begin{matrix}0\\\\1\\end{matrix}\\right]$"
      ],
      "text/plain": [
       "⎡0⎤\n",
       "⎢ ⎥\n",
       "⎣1⎦"
      ]
     },
     "execution_count": 71,
     "metadata": {},
     "output_type": "execute_result"
    }
   ],
   "source": [
    "observ = sp.Matrix([[1,1],[0,3]])\n",
    "obs = observ.inv()\n",
    "C = sp.Matrix([0,1])\n",
    "C\n",
    "#res = - obs * C* (A**2 + 4*A + 4*sp.eye(2))\n",
    "#res"
   ]
  },
  {
   "cell_type": "code",
   "execution_count": 67,
   "metadata": {},
   "outputs": [
    {
     "ename": "ShapeError",
     "evalue": "Matrix size mismatch: (2, 1) * (2, 2).",
     "output_type": "error",
     "traceback": [
      "\u001b[1;31m---------------------------------------------------------------------------\u001b[0m",
      "\u001b[1;31mShapeError\u001b[0m                                Traceback (most recent call last)",
      "\u001b[1;32m<ipython-input-67-b02a8857554f>\u001b[0m in \u001b[0;36m<module>\u001b[1;34m\u001b[0m\n\u001b[0;32m      1\u001b[0m \u001b[0md\u001b[0m \u001b[1;33m=\u001b[0m \u001b[0msp\u001b[0m\u001b[1;33m.\u001b[0m\u001b[0mMatrix\u001b[0m\u001b[1;33m(\u001b[0m\u001b[1;33m[\u001b[0m\u001b[1;36m0\u001b[0m\u001b[1;33m,\u001b[0m\u001b[1;36m1\u001b[0m\u001b[1;33m]\u001b[0m\u001b[1;33m)\u001b[0m\u001b[1;33m\u001b[0m\u001b[1;33m\u001b[0m\u001b[0m\n\u001b[1;32m----> 2\u001b[1;33m \u001b[0mdd\u001b[0m \u001b[1;33m=\u001b[0m \u001b[0md\u001b[0m\u001b[1;33m*\u001b[0m \u001b[0mobserv\u001b[0m\u001b[1;33m\u001b[0m\u001b[1;33m\u001b[0m\u001b[0m\n\u001b[0m",
      "\u001b[1;32mC:\\ProgramData\\Anaconda3\\lib\\site-packages\\sympy\\core\\decorators.py\u001b[0m in \u001b[0;36mbinary_op_wrapper\u001b[1;34m(self, other)\u001b[0m\n\u001b[0;32m    127\u001b[0m                     \u001b[1;32mif\u001b[0m \u001b[0mf\u001b[0m \u001b[1;32mis\u001b[0m \u001b[1;32mnot\u001b[0m \u001b[1;32mNone\u001b[0m\u001b[1;33m:\u001b[0m\u001b[1;33m\u001b[0m\u001b[1;33m\u001b[0m\u001b[0m\n\u001b[0;32m    128\u001b[0m                         \u001b[1;32mreturn\u001b[0m \u001b[0mf\u001b[0m\u001b[1;33m(\u001b[0m\u001b[0mself\u001b[0m\u001b[1;33m)\u001b[0m\u001b[1;33m\u001b[0m\u001b[1;33m\u001b[0m\u001b[0m\n\u001b[1;32m--> 129\u001b[1;33m             \u001b[1;32mreturn\u001b[0m \u001b[0mfunc\u001b[0m\u001b[1;33m(\u001b[0m\u001b[0mself\u001b[0m\u001b[1;33m,\u001b[0m \u001b[0mother\u001b[0m\u001b[1;33m)\u001b[0m\u001b[1;33m\u001b[0m\u001b[1;33m\u001b[0m\u001b[0m\n\u001b[0m\u001b[0;32m    130\u001b[0m         \u001b[1;32mreturn\u001b[0m \u001b[0mbinary_op_wrapper\u001b[0m\u001b[1;33m\u001b[0m\u001b[1;33m\u001b[0m\u001b[0m\n\u001b[0;32m    131\u001b[0m     \u001b[1;32mreturn\u001b[0m \u001b[0mpriority_decorator\u001b[0m\u001b[1;33m\u001b[0m\u001b[1;33m\u001b[0m\u001b[0m\n",
      "\u001b[1;32mC:\\ProgramData\\Anaconda3\\lib\\site-packages\\sympy\\matrices\\common.py\u001b[0m in \u001b[0;36m__mul__\u001b[1;34m(self, other)\u001b[0m\n\u001b[0;32m   2103\u001b[0m             \u001b[1;32mif\u001b[0m \u001b[0mself\u001b[0m\u001b[1;33m.\u001b[0m\u001b[0mshape\u001b[0m\u001b[1;33m[\u001b[0m\u001b[1;36m1\u001b[0m\u001b[1;33m]\u001b[0m \u001b[1;33m!=\u001b[0m \u001b[0mother\u001b[0m\u001b[1;33m.\u001b[0m\u001b[0mshape\u001b[0m\u001b[1;33m[\u001b[0m\u001b[1;36m0\u001b[0m\u001b[1;33m]\u001b[0m\u001b[1;33m:\u001b[0m\u001b[1;33m\u001b[0m\u001b[1;33m\u001b[0m\u001b[0m\n\u001b[0;32m   2104\u001b[0m                 raise ShapeError(\"Matrix size mismatch: %s * %s.\" % (\n\u001b[1;32m-> 2105\u001b[1;33m                     self.shape, other.shape))\n\u001b[0m\u001b[0;32m   2106\u001b[0m \u001b[1;33m\u001b[0m\u001b[0m\n\u001b[0;32m   2107\u001b[0m         \u001b[1;31m# honest sympy matrices defer to their class's routine\u001b[0m\u001b[1;33m\u001b[0m\u001b[1;33m\u001b[0m\u001b[1;33m\u001b[0m\u001b[0m\n",
      "\u001b[1;31mShapeError\u001b[0m: Matrix size mismatch: (2, 1) * (2, 2)."
     ]
    }
   ],
   "source": [
    "d = sp.Matrix([0,1])\n",
    "dd = d* observ"
   ]
  }
 ],
 "metadata": {
  "kernelspec": {
   "display_name": "Python 3",
   "language": "python",
   "name": "python3"
  },
  "language_info": {
   "codemirror_mode": {
    "name": "ipython",
    "version": 3
   },
   "file_extension": ".py",
   "mimetype": "text/x-python",
   "name": "python",
   "nbconvert_exporter": "python",
   "pygments_lexer": "ipython3",
   "version": "3.7.4"
  }
 },
 "nbformat": 4,
 "nbformat_minor": 2
}
