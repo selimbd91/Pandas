{
 "cells": [
  {
   "cell_type": "code",
   "execution_count": 1,
   "metadata": {},
   "outputs": [
    {
     "data": {
      "image/png": "[encoded data removed]",
      "text/latex": [
       "$\\displaystyle 8$"
      ],
      "text/plain": [
       "8"
      ]
     },
     "metadata": {},
     "output_type": "display_data"
    },
    {
     "data": {
      "image/png": "[encoded data removed]",
      "text/latex": [
       "$\\displaystyle 8$"
      ],
      "text/plain": [
       "8"
      ]
     },
     "metadata": {},
     "output_type": "display_data"
    }
   ],
   "source": [
    "import sympy as sp\n",
    "from sympy import S\n",
    "sp.init_printing()\n",
    "import numpy as np\n",
    "\n",
    "x, y, z = sp.symbols(\"x:z\")\n",
    "\n",
    "ex = x**2 + 2*y + z\n",
    "k = ex.subs([(x, 1), (y, 2), (z, 3)])\n",
    "display(k)\n",
    "p = ex.subs({x:1, y: 2, z:3})\n",
    "display(p)\n"
   ]
  },
  {
   "cell_type": "code",
   "execution_count": 2,
   "metadata": {},
   "outputs": [
    {
     "data": {
      "image/png": "[encoded data removed]",
      "text/latex": [
       "$\\displaystyle \\frac{7}{8}$"
      ],
      "text/plain": [
       "7/8"
      ]
     },
     "execution_count": 2,
     "metadata": {},
     "output_type": "execute_result"
    }
   ],
   "source": [
    "S(7)/ 8"
   ]
  },
  {
   "cell_type": "code",
   "execution_count": 3,
   "metadata": {},
   "outputs": [
    {
     "data": {
      "image/png": "[encoded data removed]",
      "text/latex": [
       "$\\displaystyle \\frac{3}{4}$"
      ],
      "text/plain": [
       "3/4"
      ]
     },
     "execution_count": 3,
     "metadata": {},
     "output_type": "execute_result"
    }
   ],
   "source": [
    "#from sympy import S\n",
    "S(3)/4"
   ]
  },
  {
   "cell_type": "code",
   "execution_count": 4,
   "metadata": {},
   "outputs": [
    {
     "data": {
      "image/png": "[encoded data removed]",
      "text/latex": [
       "$\\displaystyle x + y - 5$"
      ],
      "text/plain": [
       "x + y - 5"
      ]
     },
     "metadata": {},
     "output_type": "display_data"
    },
    {
     "data": {
      "image/png": "[encoded data removed]",
      "text/latex": [
       "$\\displaystyle x - y - 15$"
      ],
      "text/plain": [
       "x - y - 15"
      ]
     },
     "metadata": {},
     "output_type": "display_data"
    },
    {
     "data": {
      "image/png": "[encoded data removed]",
      "text/latex": [
       "$\\displaystyle \\left\\{ x : 10, \\  y : -5\\right\\}$"
      ],
      "text/plain": [
       "{x: 10, y: -5}"
      ]
     },
     "metadata": {},
     "output_type": "display_data"
    }
   ],
   "source": [
    "ex1 = x + y - 5\n",
    "ex2 = x - y - 15\n",
    "display(ex1)\n",
    "display(ex2)\n",
    "pp = sp.solve([ex1, ex2], [x, y])\n",
    "display(pp)"
   ]
  },
  {
   "cell_type": "code",
   "execution_count": 5,
   "metadata": {},
   "outputs": [
    {
     "data": {
      "image/png": "[encoded data removed]",
      "text/latex": [
       "$\\displaystyle \\alpha$"
      ],
      "text/plain": [
       "α"
      ]
     },
     "metadata": {},
     "output_type": "display_data"
    },
    {
     "data": {
      "image/png": "[encoded data removed]",
      "text/latex": [
       "$\\displaystyle \\beta$"
      ],
      "text/plain": [
       "β"
      ]
     },
     "metadata": {},
     "output_type": "display_data"
    },
    {
     "data": {
      "image/png": "[encoded data removed]",
      "text/latex": [
       "$\\displaystyle \\gamma$"
      ],
      "text/plain": [
       "γ"
      ]
     },
     "metadata": {},
     "output_type": "display_data"
    },
    {
     "data": {
      "image/png": "[encoded data removed]",
      "text/latex": [
       "$\\displaystyle \\mu$"
      ],
      "text/plain": [
       "μ"
      ]
     },
     "metadata": {},
     "output_type": "display_data"
    },
    {
     "data": {
      "image/png": "[encoded data removed]",
      "text/latex": [
       "$\\displaystyle \\theta$"
      ],
      "text/plain": [
       "θ"
      ]
     },
     "metadata": {},
     "output_type": "display_data"
    },
    {
     "data": {
      "image/png": "[encoded data removed]",
      "text/latex": [
       "$\\displaystyle \\sigma$"
      ],
      "text/plain": [
       "σ"
      ]
     },
     "metadata": {},
     "output_type": "display_data"
    }
   ],
   "source": [
    "alpha, beta, gamma, mu, theta, sigma = sp.symbols(\"alpha, beta, gamma, mu, theta, sigma\")\n",
    "#alpha\n",
    "display(alpha)\n",
    "display(beta)\n",
    "display(gamma)\n",
    "display(mu)\n",
    "display(theta)\n",
    "display(sigma)"
   ]
  },
  {
   "cell_type": "code",
   "execution_count": 6,
   "metadata": {},
   "outputs": [
    {
     "data": {
      "image/png": "[encoded data removed]",
      "text/latex": [
       "$\\displaystyle e^{- \\frac{\\left(- \\mu + x\\right)^{2}}{4 \\pi \\sigma^{2}}}$"
      ],
      "text/plain": [
       "          2 \n",
       " -(-μ + x)  \n",
       " ───────────\n",
       "         2  \n",
       "    4⋅π⋅σ   \n",
       "ℯ           "
      ]
     },
     "execution_count": 6,
     "metadata": {},
     "output_type": "execute_result"
    }
   ],
   "source": [
    "eex = sp.exp(-(x - mu)**2 / (4*sp.pi*sigma**2))\n",
    "eex"
   ]
  },
  {
   "cell_type": "code",
   "execution_count": 7,
   "metadata": {},
   "outputs": [
    {
     "data": {
      "image/png": "[encoded data removed]",
      "text/latex": [
       "$\\displaystyle \\frac{\\partial^{3}}{\\partial y\\partial x^{2}} e^{- \\frac{\\left(- \\mu + x\\right)^{2}}{4 \\pi \\sigma^{2}}}$"
      ],
      "text/plain": [
       "      ⎛          2 ⎞\n",
       "      ⎜ -(-μ + x)  ⎟\n",
       "      ⎜ ───────────⎟\n",
       "   3  ⎜         2  ⎟\n",
       "  ∂   ⎜    4⋅π⋅σ   ⎟\n",
       "──────⎝ℯ           ⎠\n",
       "     2              \n",
       "∂y ∂x               "
      ]
     },
     "metadata": {},
     "output_type": "display_data"
    },
    {
     "data": {
      "image/png": "[encoded data removed]",
      "text/latex": [
       "$\\displaystyle 0$"
      ],
      "text/plain": [
       "0"
      ]
     },
     "execution_count": 7,
     "metadata": {},
     "output_type": "execute_result"
    }
   ],
   "source": [
    "ko = sp.Derivative(eex, x, x, y)\n",
    "display(ko)\n",
    "ko.doit().simplify()"
   ]
  },
  {
   "cell_type": "code",
   "execution_count": 8,
   "metadata": {},
   "outputs": [
    {
     "data": {
      "image/png": "[encoded data removed]",
      "text/latex": [
       "$\\displaystyle x^{3} + 3 x$"
      ],
      "text/plain": [
       " 3      \n",
       "x  + 3⋅x"
      ]
     },
     "execution_count": 8,
     "metadata": {},
     "output_type": "execute_result"
    }
   ],
   "source": [
    "w = x**3 + 3*x\n",
    "kk = sp.Derivative(w, x)\n",
    "w"
   ]
  },
  {
   "cell_type": "code",
   "execution_count": 12,
   "metadata": {},
   "outputs": [
    {
     "data": {
      "image/png": "[encoded data removed]",
      "text/latex": [
       "$\\displaystyle - x y + z$"
      ],
      "text/plain": [
       "-x⋅y + z"
      ]
     },
     "metadata": {},
     "output_type": "display_data"
    },
    {
     "data": {
      "image/png": "[encoded data removed]",
      "text/latex": [
       "$\\displaystyle z = x y$"
      ],
      "text/plain": [
       "z = x⋅y"
      ]
     },
     "metadata": {},
     "output_type": "display_data"
    },
    {
     "data": {
      "image/png": "[encoded data removed]",
      "text/latex": [
       "$\\displaystyle \\left[ \\frac{z}{x}\\right]$"
      ],
      "text/plain": [
       "⎡z⎤\n",
       "⎢─⎥\n",
       "⎣x⎦"
      ]
     },
     "metadata": {},
     "output_type": "display_data"
    },
    {
     "data": {
      "image/png": "[encoded data removed]",
      "text/latex": [
       "$\\displaystyle \\left[ \\frac{z}{x}\\right]$"
      ],
      "text/plain": [
       "⎡z⎤\n",
       "⎢─⎥\n",
       "⎣x⎦"
      ]
     },
     "metadata": {},
     "output_type": "display_data"
    }
   ],
   "source": [
    "jj = z - x*y\n",
    "display(jj)\n",
    "jjj = sp.Eq(z, x*y)\n",
    "display(jjj)\n",
    "kkk = sp.solve(jj, y)\n",
    "display(kkk)\n",
    "jk = sp.solve(jjj, y)\n",
    "display(jk)"
   ]
  }
 ],
 "metadata": {
  "kernelspec": {
   "display_name": "Python 3",
   "language": "python",
   "name": "python3"
  },
  "language_info": {
   "codemirror_mode": {
    "name": "ipython",
    "version": 3
   },
   "file_extension": ".py",
   "mimetype": "text/x-python",
   "name": "python",
   "nbconvert_exporter": "python",
   "pygments_lexer": "ipython3",
   "version": "3.7.4"
  }
 },
 "nbformat": 4,
 "nbformat_minor": 2
}
